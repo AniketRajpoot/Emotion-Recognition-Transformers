{
  "nbformat": 4,
  "nbformat_minor": 0,
  "metadata": {
    "colab": {
      "provenance": [],
      "collapsed_sections": [],
      "include_colab_link": true
    },
    "kernelspec": {
      "name": "python3",
      "display_name": "Python 3"
    },
    "language_info": {
      "name": "python"
    },
    "accelerator": "GPU"
  },
  "cells": [
    {
      "cell_type": "markdown",
      "metadata": {
        "id": "view-in-github",
        "colab_type": "text"
      },
      "source": [
        "<a href=\"https://colab.research.google.com/github/bruAristimunha/Emotion-Recognition-Transformers/blob/main/Project.ipynb\" target=\"_parent\"><img src=\"https://colab.research.google.com/assets/colab-badge.svg\" alt=\"Open In Colab\"/></a>"
      ]
    },
    {
      "cell_type": "code",
      "source": [
        "!pip install mlxtend moabb braindecode\n",
        "!pip install --upgrade mlxtend"
      ],
      "metadata": {
        "id": "XUHAnGLhSMmt",
        "colab": {
          "base_uri": "https://localhost:8080/"
        },
        "outputId": "9f19c867-f20a-42e9-9df2-6cf97139904c"
      },
      "execution_count": null,
      "outputs": [
        {
          "output_type": "stream",
          "name": "stdout",
          "text": [
            "Looking in indexes: https://pypi.org/simple, https://us-python.pkg.dev/colab-wheels/public/simple/\n",
            "Requirement already satisfied: mlxtend in /usr/local/lib/python3.7/dist-packages (0.14.0)\n",
            "Collecting moabb\n",
            "  Downloading moabb-0.4.6-py3-none-any.whl (140 kB)\n",
            "\u001b[K     |████████████████████████████████| 140 kB 5.0 MB/s \n",
            "\u001b[?25hCollecting braindecode\n",
            "  Downloading Braindecode-0.6-py3-none-any.whl (177 kB)\n",
            "\u001b[K     |████████████████████████████████| 177 kB 43.8 MB/s \n",
            "\u001b[?25hRequirement already satisfied: scipy>=0.17 in /usr/local/lib/python3.7/dist-packages (from mlxtend) (1.7.3)\n",
            "Requirement already satisfied: numpy>=1.10.4 in /usr/local/lib/python3.7/dist-packages (from mlxtend) (1.21.6)\n",
            "Requirement already satisfied: matplotlib>=1.5.1 in /usr/local/lib/python3.7/dist-packages (from mlxtend) (3.2.2)\n",
            "Requirement already satisfied: setuptools in /usr/local/lib/python3.7/dist-packages (from mlxtend) (57.4.0)\n",
            "Requirement already satisfied: scikit-learn>=0.18 in /usr/local/lib/python3.7/dist-packages (from mlxtend) (1.0.2)\n",
            "Requirement already satisfied: pandas>=0.17.1 in /usr/local/lib/python3.7/dist-packages (from mlxtend) (1.3.5)\n",
            "Requirement already satisfied: cycler>=0.10 in /usr/local/lib/python3.7/dist-packages (from matplotlib>=1.5.1->mlxtend) (0.11.0)\n",
            "Requirement already satisfied: kiwisolver>=1.0.1 in /usr/local/lib/python3.7/dist-packages (from matplotlib>=1.5.1->mlxtend) (1.4.4)\n",
            "Requirement already satisfied: python-dateutil>=2.1 in /usr/local/lib/python3.7/dist-packages (from matplotlib>=1.5.1->mlxtend) (2.8.2)\n",
            "Requirement already satisfied: pyparsing!=2.0.4,!=2.1.2,!=2.1.6,>=2.0.1 in /usr/local/lib/python3.7/dist-packages (from matplotlib>=1.5.1->mlxtend) (3.0.9)\n",
            "Requirement already satisfied: typing-extensions in /usr/local/lib/python3.7/dist-packages (from kiwisolver>=1.0.1->matplotlib>=1.5.1->mlxtend) (4.1.1)\n",
            "Requirement already satisfied: pytz>=2017.3 in /usr/local/lib/python3.7/dist-packages (from pandas>=0.17.1->mlxtend) (2022.4)\n",
            "Requirement already satisfied: six>=1.5 in /usr/local/lib/python3.7/dist-packages (from python-dateutil>=2.1->matplotlib>=1.5.1->mlxtend) (1.15.0)\n",
            "Requirement already satisfied: joblib>=0.11 in /usr/local/lib/python3.7/dist-packages (from scikit-learn>=0.18->mlxtend) (1.2.0)\n",
            "Requirement already satisfied: threadpoolctl>=2.0.0 in /usr/local/lib/python3.7/dist-packages (from scikit-learn>=0.18->mlxtend) (3.1.0)\n",
            "Collecting PyYAML<6.0,>=5.0\n",
            "  Downloading PyYAML-5.4.1-cp37-cp37m-manylinux1_x86_64.whl (636 kB)\n",
            "\u001b[K     |████████████████████████████████| 636 kB 59.5 MB/s \n",
            "\u001b[?25hCollecting mne>=0.19\n",
            "  Downloading mne-1.1.1-py3-none-any.whl (7.5 MB)\n",
            "\u001b[K     |████████████████████████████████| 7.5 MB 51.1 MB/s \n",
            "\u001b[?25hCollecting pyriemann>=0.2.6\n",
            "  Downloading pyriemann-0.3.tar.gz (365 kB)\n",
            "\u001b[K     |████████████████████████████████| 365 kB 69.5 MB/s \n",
            "\u001b[?25hCollecting coverage<6.0,>=5.5\n",
            "  Downloading coverage-5.5-cp37-cp37m-manylinux2010_x86_64.whl (242 kB)\n",
            "\u001b[K     |████████████████████████████████| 242 kB 65.2 MB/s \n",
            "\u001b[?25hRequirement already satisfied: tqdm<5.0,>=4.62 in /usr/local/lib/python3.7/dist-packages (from moabb) (4.64.1)\n",
            "Requirement already satisfied: pooch<2.0,>=1.6 in /usr/local/lib/python3.7/dist-packages (from moabb) (1.6.0)\n",
            "Requirement already satisfied: requests<3.0.0,>=2.15.1 in /usr/local/lib/python3.7/dist-packages (from moabb) (2.23.0)\n",
            "Requirement already satisfied: seaborn>=0.9 in /usr/local/lib/python3.7/dist-packages (from moabb) (0.11.2)\n",
            "Requirement already satisfied: h5py<4.0,>=3.0 in /usr/local/lib/python3.7/dist-packages (from moabb) (3.1.0)\n",
            "Requirement already satisfied: cached-property in /usr/local/lib/python3.7/dist-packages (from h5py<4.0,>=3.0->moabb) (1.5.2)\n",
            "Requirement already satisfied: packaging in /usr/local/lib/python3.7/dist-packages (from mne>=0.19->moabb) (21.3)\n",
            "Requirement already satisfied: jinja2 in /usr/local/lib/python3.7/dist-packages (from mne>=0.19->moabb) (2.11.3)\n",
            "Requirement already satisfied: decorator in /usr/local/lib/python3.7/dist-packages (from mne>=0.19->moabb) (4.4.2)\n",
            "Requirement already satisfied: appdirs>=1.3.0 in /usr/local/lib/python3.7/dist-packages (from pooch<2.0,>=1.6->moabb) (1.4.4)\n",
            "Requirement already satisfied: chardet<4,>=3.0.2 in /usr/local/lib/python3.7/dist-packages (from requests<3.0.0,>=2.15.1->moabb) (3.0.4)\n",
            "Requirement already satisfied: urllib3!=1.25.0,!=1.25.1,<1.26,>=1.21.1 in /usr/local/lib/python3.7/dist-packages (from requests<3.0.0,>=2.15.1->moabb) (1.24.3)\n",
            "Requirement already satisfied: certifi>=2017.4.17 in /usr/local/lib/python3.7/dist-packages (from requests<3.0.0,>=2.15.1->moabb) (2022.9.24)\n",
            "Requirement already satisfied: idna<3,>=2.5 in /usr/local/lib/python3.7/dist-packages (from requests<3.0.0,>=2.15.1->moabb) (2.10)\n",
            "Collecting skorch\n",
            "  Downloading skorch-0.11.0-py3-none-any.whl (155 kB)\n",
            "\u001b[K     |████████████████████████████████| 155 kB 64.3 MB/s \n",
            "\u001b[?25hRequirement already satisfied: MarkupSafe>=0.23 in /usr/local/lib/python3.7/dist-packages (from jinja2->mne>=0.19->moabb) (2.0.1)\n",
            "Requirement already satisfied: tabulate>=0.7.7 in /usr/local/lib/python3.7/dist-packages (from skorch->braindecode) (0.8.10)\n",
            "Building wheels for collected packages: pyriemann\n",
            "  Building wheel for pyriemann (setup.py) ... \u001b[?25l\u001b[?25hdone\n",
            "  Created wheel for pyriemann: filename=pyriemann-0.3-py2.py3-none-any.whl size=78033 sha256=933083e003ae2c4004d62528170700af9b644c95f2f240d336e519b4b37de8b5\n",
            "  Stored in directory: /root/.cache/pip/wheels/0b/1b/bf/a537f9e17e6c3490004ede419c72f863af1d0d765d25e532ef\n",
            "Successfully built pyriemann\n",
            "Installing collected packages: skorch, PyYAML, pyriemann, mne, coverage, moabb, braindecode\n",
            "  Attempting uninstall: PyYAML\n",
            "    Found existing installation: PyYAML 6.0\n",
            "    Uninstalling PyYAML-6.0:\n",
            "      Successfully uninstalled PyYAML-6.0\n",
            "Successfully installed PyYAML-5.4.1 braindecode-0.6 coverage-5.5 mne-1.1.1 moabb-0.4.6 pyriemann-0.3 skorch-0.11.0\n",
            "Looking in indexes: https://pypi.org/simple, https://us-python.pkg.dev/colab-wheels/public/simple/\n",
            "Requirement already satisfied: mlxtend in /usr/local/lib/python3.7/dist-packages (0.14.0)\n",
            "Collecting mlxtend\n",
            "  Downloading mlxtend-0.21.0-py2.py3-none-any.whl (1.3 MB)\n",
            "\u001b[K     |████████████████████████████████| 1.3 MB 5.1 MB/s \n",
            "\u001b[?25hRequirement already satisfied: pandas>=0.24.2 in /usr/local/lib/python3.7/dist-packages (from mlxtend) (1.3.5)\n",
            "Requirement already satisfied: scipy>=1.2.1 in /usr/local/lib/python3.7/dist-packages (from mlxtend) (1.7.3)\n",
            "Requirement already satisfied: joblib>=0.13.2 in /usr/local/lib/python3.7/dist-packages (from mlxtend) (1.2.0)\n",
            "Requirement already satisfied: setuptools in /usr/local/lib/python3.7/dist-packages (from mlxtend) (57.4.0)\n",
            "Requirement already satisfied: matplotlib>=3.0.0 in /usr/local/lib/python3.7/dist-packages (from mlxtend) (3.2.2)\n",
            "Requirement already satisfied: numpy>=1.16.2 in /usr/local/lib/python3.7/dist-packages (from mlxtend) (1.21.6)\n",
            "Requirement already satisfied: scikit-learn>=1.0.2 in /usr/local/lib/python3.7/dist-packages (from mlxtend) (1.0.2)\n",
            "Requirement already satisfied: cycler>=0.10 in /usr/local/lib/python3.7/dist-packages (from matplotlib>=3.0.0->mlxtend) (0.11.0)\n",
            "Requirement already satisfied: python-dateutil>=2.1 in /usr/local/lib/python3.7/dist-packages (from matplotlib>=3.0.0->mlxtend) (2.8.2)\n",
            "Requirement already satisfied: pyparsing!=2.0.4,!=2.1.2,!=2.1.6,>=2.0.1 in /usr/local/lib/python3.7/dist-packages (from matplotlib>=3.0.0->mlxtend) (3.0.9)\n",
            "Requirement already satisfied: kiwisolver>=1.0.1 in /usr/local/lib/python3.7/dist-packages (from matplotlib>=3.0.0->mlxtend) (1.4.4)\n",
            "Requirement already satisfied: typing-extensions in /usr/local/lib/python3.7/dist-packages (from kiwisolver>=1.0.1->matplotlib>=3.0.0->mlxtend) (4.1.1)\n",
            "Requirement already satisfied: pytz>=2017.3 in /usr/local/lib/python3.7/dist-packages (from pandas>=0.24.2->mlxtend) (2022.4)\n",
            "Requirement already satisfied: six>=1.5 in /usr/local/lib/python3.7/dist-packages (from python-dateutil>=2.1->matplotlib>=3.0.0->mlxtend) (1.15.0)\n",
            "Requirement already satisfied: threadpoolctl>=2.0.0 in /usr/local/lib/python3.7/dist-packages (from scikit-learn>=1.0.2->mlxtend) (3.1.0)\n",
            "Installing collected packages: mlxtend\n",
            "  Attempting uninstall: mlxtend\n",
            "    Found existing installation: mlxtend 0.14.0\n",
            "    Uninstalling mlxtend-0.14.0:\n",
            "      Successfully uninstalled mlxtend-0.14.0\n",
            "Successfully installed mlxtend-0.21.0\n"
          ]
        }
      ]
    },
    {
      "cell_type": "markdown",
      "source": [
        "# Structure of the Project\n",
        "\n",
        "\n"
      ],
      "metadata": {
        "id": "dnC-UYC4fEpM"
      }
    },
    {
      "cell_type": "markdown",
      "source": [
        "N distinct individuals, with train datasets ${\\left\\{(X_n,y_n)\\right\\}}^N_{n=1}$ for each. \n",
        "\n",
        "New individual T, with $(X_T, y_T)$ and less training examples than the other N.\n",
        "\n",
        "We want to use the N models created for each individual to create a combination that classifies well for a new individual T.\n",
        "\n",
        "***First step: Preprocessing**\n",
        "\n",
        "--> Load of data from MOABBDataset\n",
        "\n",
        "--> Preprocessing: Preprocessor from braindecode.preprocessing\n",
        "\n",
        "*   'pick_types' - Keep EEG sensors\n",
        "*   Scale - change scale from V to uV\n",
        "*   'filter' - bandpass filter\n",
        "*   'exponential moving standardization' - moving average\n",
        "*   **Euclidean Alignment** : but, to execute this, we first need to split the data in subjects and trials (and Training/Test?)\n",
        "\n",
        "--> Cut compute windows: from braindecode.preprocessing import create_windows_from_events\n",
        "\n",
        "Slice the dataset in pieces (windows) of a certain $\\Delta t$.\n",
        "\n",
        "***Second step: create models for each subjects**\n",
        "\n",
        "***Third step: create the ensemble**\n",
        "\n",
        "***Fourth step: find good metrics for measuring the efficiency**\n"
      ],
      "metadata": {
        "id": "dWuBaiZVieIa"
      }
    },
    {
      "cell_type": "markdown",
      "source": [
        "# The Euclidean alignment\n",
        "\n"
      ],
      "metadata": {
        "id": "AubiU2f4fjNn"
      }
    },
    {
      "cell_type": "markdown",
      "source": [
        "*Reference: He H, Wu D. Transfer Learning for Brain-Computer Interfaces: A Euclidean Space Data Alignment Approach. IEEE Trans Biomed Eng. 2020 Feb;67(2):399-410. doi: [10.1109/TBME.2019.2913914](https://ieeexplore.ieee.org/document/8701679). Epub 2019 Apr 29. PMID: 31034407.*\n",
        "\n",
        "Alignment of the data from the N different individuals in the Eucidean space to make them more similar. \n",
        "\n",
        "Let $X^{j}_i$ be the matrix of EEG signals for trial i$\\in \\left\\{1, 2, ..., n\\right\\}$ from the subject (individual) j. We first compute the aritimetic mean of all covariance matrix\n",
        "\n",
        "\\begin{equation}\n",
        "\\bar{R^j}=1/n \\sum^{n}_{i=1}X^j_i {X^j_i}^T\n",
        "\\end{equation}\n",
        "\n",
        "Then, we perform the alignment on each trial, that is the matrix multiplication \n",
        "\n",
        "\\begin{equation}\n",
        "\\tilde{X^j_i}={\\bar{R^j}}^{\\,-1/2} X^j_i\n",
        "\\end{equation}\n",
        "\n",
        "Summarizing: For each individual j, $\\left\\{X^j_i\\right\\}^n_{i=1} -^T→ \\left\\{\\tilde{X^j_i}\\right\\}^n_{i=1}$.\n",
        "\n",
        "This new data has the mean covariance matrices of all subjects equal to the identity matrix ($I$), and, therefore, the distributions are more similar.\n"
      ],
      "metadata": {
        "id": "spDN44Uwina0"
      }
    },
    {
      "cell_type": "markdown",
      "source": [
        "Just some tests:"
      ],
      "metadata": {
        "id": "JdjXlVzufxqK"
      }
    },
    {
      "cell_type": "code",
      "source": [
        "#generating synthetic eeg data\n",
        "n_examples=5\n",
        "n_channels=5\n",
        "sfreq=128\n",
        "input_size_s=1\n",
        "rng = np.random.RandomState(42)\n",
        "X = rng.randn(n_examples, n_channels, int(sfreq * input_size_s))\n",
        "X = X.astype(np.float32)"
      ],
      "metadata": {
        "id": "1GjxDumIdZms"
      },
      "execution_count": null,
      "outputs": []
    },
    {
      "cell_type": "code",
      "source": [
        "print(X)"
      ],
      "metadata": {
        "id": "_U2d869SryAt"
      },
      "execution_count": null,
      "outputs": []
    },
    {
      "cell_type": "code",
      "source": [
        "!pip install pyriemann"
      ],
      "metadata": {
        "id": "Bd3wpnYCr2gh"
      },
      "execution_count": null,
      "outputs": []
    },
    {
      "cell_type": "code",
      "source": [
        "from pyriemann.utils import mean\n",
        "R=mean.mean_euclid(X[..., np.newaxis])\n",
        "print((R**(-1/2)).shape)\n",
        "print(X.shape)\n",
        "print(X@(R**(-1/2)))\n"
      ],
      "metadata": {
        "id": "S6OZX6gotSIZ"
      },
      "execution_count": null,
      "outputs": []
    },
    {
      "cell_type": "code",
      "source": [
        "# Is working! (but this way to compute the covariance woks only with 2D arrays)\n",
        "import scipy\n",
        "#Matrix \n",
        "A=np.array([[2,3,4],[7,2,5]])\n",
        "#\"Average\" covariance R (is positive definite)\n",
        "R=A@A.T\n",
        "print(R)\n",
        "#Find the matrix square root S of R (such that R=S@S)\n",
        "S=scipy.linalg.sqrtm(R)\n",
        "print(S.dot(S))\n",
        "#Invs=S^{-1}=(R^{1/2})^{-1}=R^{-1/2}\n",
        "InvS=np.linalg.inv(S)\n",
        "#Alignment of A: An=R^{-1/2}@A\n",
        "An=InvS@A\n",
        "print(An)\n",
        "#Property: An@An.T=I\n",
        "print(An@An.T)"
      ],
      "metadata": {
        "id": "N2WDt4aC5O8V"
      },
      "execution_count": null,
      "outputs": []
    },
    {
      "cell_type": "markdown",
      "source": [
        "##Testing the Euclidean Alignment (EA)\n",
        "\n",
        "We want to evaluate the performance in new subjects.\n",
        "Here, we are going to use the ShallowConvNet or EEGNet networks.\n",
        "\n",
        "(\\*) The comparision is going to be made using *leave-one-out* or *k-fold*.\n",
        "\n",
        "- **Leave-one-out (LOO)**: \n",
        "- **k-fold**:\n"
      ],
      "metadata": {
        "id": "m-va769C9s1F"
      }
    },
    {
      "cell_type": "markdown",
      "source": [
        "### Download and preprocess the data"
      ],
      "metadata": {
        "id": "R6mfI3M6cSBc"
      }
    },
    {
      "cell_type": "code",
      "source": [
        "#Structure of the project\n",
        "from braindecode.datasets import MOABBDataset\n",
        "\n",
        "dataset=MOABBDataset(dataset_name=\"BNCI2014001\", subject_ids=[1,2,3,4,5])"
      ],
      "metadata": {
        "colab": {
          "base_uri": "https://localhost:8080/"
        },
        "id": "eNgUEhSnhvQ2",
        "outputId": "895f6eff-21aa-49f8-fc9f-13dd80ab22e6"
      },
      "execution_count": null,
      "outputs": [
        {
          "output_type": "stream",
          "name": "stderr",
          "text": [
            "/usr/local/lib/python3.7/dist-packages/moabb/datasets/download.py:53: RuntimeWarning: Setting non-standard config type: \"MNE_DATASETS_BNCI_PATH\"\n",
            "  set_config(key, get_config(\"MNE_DATA\"))\n",
            "Downloading data from 'http://bnci-horizon-2020.eu/database/data-sets/001-2014/A01T.mat' to file '/root/mne_data/MNE-bnci-data/database/data-sets/001-2014/A01T.mat'.\n"
          ]
        },
        {
          "output_type": "stream",
          "name": "stdout",
          "text": [
            "MNE_DATA is not already configured. It will be set to default location in the home directory - /root/mne_data\n",
            "All datasets will be downloaded to this location, if anything is already downloaded, please move manually to this location\n"
          ]
        },
        {
          "output_type": "stream",
          "name": "stderr",
          "text": [
            "100%|█████████████████████████████████████| 42.8M/42.8M [00:00<00:00, 31.0GB/s]\n",
            "SHA256 hash of downloaded file: 054f02e70cf9c4ada1517e9b9864f45407939c1062c6793516585c6f511d0325\n",
            "Use this value as the 'known_hash' argument of 'pooch.retrieve' to ensure that the file hasn't changed if it is downloaded again in the future.\n",
            "Downloading data from 'http://bnci-horizon-2020.eu/database/data-sets/001-2014/A01E.mat' to file '/root/mne_data/MNE-bnci-data/database/data-sets/001-2014/A01E.mat'.\n",
            "100%|█████████████████████████████████████| 43.8M/43.8M [00:00<00:00, 26.1GB/s]\n",
            "SHA256 hash of downloaded file: 53d415f39c3d7b0c88b894d7b08d99bcdfe855ede63831d3691af1a45607fb62\n",
            "Use this value as the 'known_hash' argument of 'pooch.retrieve' to ensure that the file hasn't changed if it is downloaded again in the future.\n",
            "Downloading data from 'http://bnci-horizon-2020.eu/database/data-sets/001-2014/A02T.mat' to file '/root/mne_data/MNE-bnci-data/database/data-sets/001-2014/A02T.mat'.\n",
            "100%|█████████████████████████████████████| 43.1M/43.1M [00:00<00:00, 38.1GB/s]\n",
            "SHA256 hash of downloaded file: 5ddd5cb520b1692c3ba1363f48d98f58f0e46f3699ee50d749947950fc39db27\n",
            "Use this value as the 'known_hash' argument of 'pooch.retrieve' to ensure that the file hasn't changed if it is downloaded again in the future.\n",
            "Downloading data from 'http://bnci-horizon-2020.eu/database/data-sets/001-2014/A02E.mat' to file '/root/mne_data/MNE-bnci-data/database/data-sets/001-2014/A02E.mat'.\n",
            "100%|█████████████████████████████████████| 44.2M/44.2M [00:00<00:00, 29.5GB/s]\n",
            "SHA256 hash of downloaded file: d63c454005d3a9b41d8440629482e855afc823339bdd0b5721842a7ee9cc7b12\n",
            "Use this value as the 'known_hash' argument of 'pooch.retrieve' to ensure that the file hasn't changed if it is downloaded again in the future.\n",
            "Downloading data from 'http://bnci-horizon-2020.eu/database/data-sets/001-2014/A03T.mat' to file '/root/mne_data/MNE-bnci-data/database/data-sets/001-2014/A03T.mat'.\n",
            "100%|█████████████████████████████████████| 44.1M/44.1M [00:00<00:00, 36.8GB/s]\n",
            "SHA256 hash of downloaded file: 7e731ee8b681d5da6ecb11ae1d4e64b1653c7f15aad5d6b7620b25ce53141e80\n",
            "Use this value as the 'known_hash' argument of 'pooch.retrieve' to ensure that the file hasn't changed if it is downloaded again in the future.\n",
            "Downloading data from 'http://bnci-horizon-2020.eu/database/data-sets/001-2014/A03E.mat' to file '/root/mne_data/MNE-bnci-data/database/data-sets/001-2014/A03E.mat'.\n",
            "100%|█████████████████████████████████████| 42.3M/42.3M [00:00<00:00, 4.57GB/s]\n",
            "SHA256 hash of downloaded file: d4229267ec7624fa8bd3af5cbebac17f415f7c722de6cb676748f8cb3b717d97\n",
            "Use this value as the 'known_hash' argument of 'pooch.retrieve' to ensure that the file hasn't changed if it is downloaded again in the future.\n",
            "Downloading data from 'http://bnci-horizon-2020.eu/database/data-sets/001-2014/A04T.mat' to file '/root/mne_data/MNE-bnci-data/database/data-sets/001-2014/A04T.mat'.\n",
            "100%|█████████████████████████████████████| 37.2M/37.2M [00:00<00:00, 28.1GB/s]\n",
            "SHA256 hash of downloaded file: 15850d81b95fc88cc8b9589eb9b713d49fa071e28adaf32d675b3eaa30591d6e\n",
            "Use this value as the 'known_hash' argument of 'pooch.retrieve' to ensure that the file hasn't changed if it is downloaded again in the future.\n",
            "Downloading data from 'http://bnci-horizon-2020.eu/database/data-sets/001-2014/A04E.mat' to file '/root/mne_data/MNE-bnci-data/database/data-sets/001-2014/A04E.mat'.\n",
            "100%|█████████████████████████████████████| 41.7M/41.7M [00:00<00:00, 12.4GB/s]\n",
            "SHA256 hash of downloaded file: 81916dff2c12997974ba50ffc311da006ea66e525010d010765f0047e771c86a\n",
            "Use this value as the 'known_hash' argument of 'pooch.retrieve' to ensure that the file hasn't changed if it is downloaded again in the future.\n",
            "Downloading data from 'http://bnci-horizon-2020.eu/database/data-sets/001-2014/A05T.mat' to file '/root/mne_data/MNE-bnci-data/database/data-sets/001-2014/A05T.mat'.\n",
            "100%|█████████████████████████████████████| 42.5M/42.5M [00:00<00:00, 8.04GB/s]\n",
            "SHA256 hash of downloaded file: 77387d3b669f4ed9a7c1dac4dcba4c2c40c8910bae20fb961bb7cf5a94912950\n",
            "Use this value as the 'known_hash' argument of 'pooch.retrieve' to ensure that the file hasn't changed if it is downloaded again in the future.\n",
            "Downloading data from 'http://bnci-horizon-2020.eu/database/data-sets/001-2014/A05E.mat' to file '/root/mne_data/MNE-bnci-data/database/data-sets/001-2014/A05E.mat'.\n",
            "100%|█████████████████████████████████████| 44.4M/44.4M [00:00<00:00, 14.4GB/s]\n",
            "SHA256 hash of downloaded file: 8b357470865610c28b2f1d351beac247a56a856f02b2859d650736eb2ef77808\n",
            "Use this value as the 'known_hash' argument of 'pooch.retrieve' to ensure that the file hasn't changed if it is downloaded again in the future.\n"
          ]
        },
        {
          "output_type": "stream",
          "name": "stdout",
          "text": [
            "48 events found\n",
            "Event IDs: [1 2 3 4]\n",
            "48 events found\n",
            "Event IDs: [1 2 3 4]\n",
            "48 events found\n",
            "Event IDs: [1 2 3 4]\n",
            "48 events found\n",
            "Event IDs: [1 2 3 4]\n",
            "48 events found\n",
            "Event IDs: [1 2 3 4]\n",
            "48 events found\n",
            "Event IDs: [1 2 3 4]\n",
            "48 events found\n",
            "Event IDs: [1 2 3 4]\n",
            "48 events found\n",
            "Event IDs: [1 2 3 4]\n",
            "48 events found\n",
            "Event IDs: [1 2 3 4]\n",
            "48 events found\n",
            "Event IDs: [1 2 3 4]\n",
            "48 events found\n",
            "Event IDs: [1 2 3 4]\n",
            "48 events found\n",
            "Event IDs: [1 2 3 4]\n",
            "48 events found\n",
            "Event IDs: [1 2 3 4]\n",
            "48 events found\n",
            "Event IDs: [1 2 3 4]\n",
            "48 events found\n",
            "Event IDs: [1 2 3 4]\n",
            "48 events found\n",
            "Event IDs: [1 2 3 4]\n",
            "48 events found\n",
            "Event IDs: [1 2 3 4]\n",
            "48 events found\n",
            "Event IDs: [1 2 3 4]\n",
            "48 events found\n",
            "Event IDs: [1 2 3 4]\n",
            "48 events found\n",
            "Event IDs: [1 2 3 4]\n",
            "48 events found\n",
            "Event IDs: [1 2 3 4]\n",
            "48 events found\n",
            "Event IDs: [1 2 3 4]\n",
            "48 events found\n",
            "Event IDs: [1 2 3 4]\n",
            "48 events found\n",
            "Event IDs: [1 2 3 4]\n",
            "48 events found\n",
            "Event IDs: [1 2 3 4]\n",
            "48 events found\n",
            "Event IDs: [1 2 3 4]\n",
            "48 events found\n",
            "Event IDs: [1 2 3 4]\n",
            "48 events found\n",
            "Event IDs: [1 2 3 4]\n",
            "48 events found\n",
            "Event IDs: [1 2 3 4]\n",
            "48 events found\n",
            "Event IDs: [1 2 3 4]\n",
            "48 events found\n",
            "Event IDs: [1 2 3 4]\n",
            "48 events found\n",
            "Event IDs: [1 2 3 4]\n",
            "48 events found\n",
            "Event IDs: [1 2 3 4]\n",
            "48 events found\n",
            "Event IDs: [1 2 3 4]\n",
            "48 events found\n",
            "Event IDs: [1 2 3 4]\n",
            "48 events found\n",
            "Event IDs: [1 2 3 4]\n",
            "48 events found\n",
            "Event IDs: [1 2 3 4]\n",
            "48 events found\n",
            "Event IDs: [1 2 3 4]\n",
            "48 events found\n",
            "Event IDs: [1 2 3 4]\n",
            "48 events found\n",
            "Event IDs: [1 2 3 4]\n",
            "48 events found\n",
            "Event IDs: [1 2 3 4]\n",
            "48 events found\n",
            "Event IDs: [1 2 3 4]\n",
            "48 events found\n",
            "Event IDs: [1 2 3 4]\n",
            "48 events found\n",
            "Event IDs: [1 2 3 4]\n",
            "48 events found\n",
            "Event IDs: [1 2 3 4]\n",
            "48 events found\n",
            "Event IDs: [1 2 3 4]\n",
            "48 events found\n",
            "Event IDs: [1 2 3 4]\n",
            "48 events found\n",
            "Event IDs: [1 2 3 4]\n",
            "48 events found\n",
            "Event IDs: [1 2 3 4]\n",
            "48 events found\n",
            "Event IDs: [1 2 3 4]\n",
            "48 events found\n",
            "Event IDs: [1 2 3 4]\n",
            "48 events found\n",
            "Event IDs: [1 2 3 4]\n",
            "48 events found\n",
            "Event IDs: [1 2 3 4]\n",
            "48 events found\n",
            "Event IDs: [1 2 3 4]\n",
            "48 events found\n",
            "Event IDs: [1 2 3 4]\n",
            "48 events found\n",
            "Event IDs: [1 2 3 4]\n",
            "48 events found\n",
            "Event IDs: [1 2 3 4]\n",
            "48 events found\n",
            "Event IDs: [1 2 3 4]\n",
            "48 events found\n",
            "Event IDs: [1 2 3 4]\n",
            "48 events found\n",
            "Event IDs: [1 2 3 4]\n"
          ]
        }
      ]
    },
    {
      "cell_type": "code",
      "source": [
        "#LOO - Leave-One-Out\n",
        "from sklearn.model_selection import LeaveOneOut\n",
        "import mne"
      ],
      "metadata": {
        "id": "kiWhyHEz1yAk"
      },
      "execution_count": null,
      "outputs": []
    },
    {
      "cell_type": "markdown",
      "source": [
        "Preprocess the data: reescale, compute moving average, filter"
      ],
      "metadata": {
        "id": "vC2ObDlxgklQ"
      }
    },
    {
      "cell_type": "code",
      "source": [
        "from braindecode.preprocessing import (\n",
        "    exponential_moving_standardize, preprocess, Preprocessor, scale)\n",
        "mne.set_log_level('ERROR')\n",
        "\n",
        "low_cut_hz = 0.5  # low cut frequency for filtering\n",
        "high_cut_hz = 38.  # high cut frequency for filtering\n",
        "# Parameters for exponential moving standardization\n",
        "factor_new = 1e-3\n",
        "init_block_size = 1000\n",
        "\n",
        "preprocessors = [\n",
        "    Preprocessor('pick_types', eeg=True, meg=False, stim=False),  # Keep EEG sensors\n",
        "    Preprocessor(scale, factor=1e6, apply_on_array=True),  # Convert from V to uV\n",
        "    Preprocessor('filter', l_freq=low_cut_hz, h_freq=high_cut_hz),  # Bandpass filter\n",
        "    Preprocessor(exponential_moving_standardize,  # Exponential moving standardization\n",
        "                 factor_new=factor_new, init_block_size=init_block_size),\n",
        "]\n",
        "\n",
        "# Transform the data\n",
        "preprocess(dataset, preprocessors)"
      ],
      "metadata": {
        "id": "Z6TvVtJpSJYL",
        "colab": {
          "base_uri": "https://localhost:8080/"
        },
        "outputId": "23f54c87-53d7-4e99-bedc-6d3385e4a959"
      },
      "execution_count": null,
      "outputs": [
        {
          "output_type": "stream",
          "name": "stderr",
          "text": [
            "/usr/local/lib/python3.7/dist-packages/sklearn/utils/deprecation.py:87: FutureWarning: Function scale is deprecated; will be removed in 0.7.0. Use numpy.multiply instead.\n",
            "  warnings.warn(msg, category=FutureWarning)\n"
          ]
        },
        {
          "output_type": "execute_result",
          "data": {
            "text/plain": [
              "<braindecode.datasets.moabb.MOABBDataset at 0x7f11c9bc0790>"
            ]
          },
          "metadata": {},
          "execution_count": 4
        }
      ]
    },
    {
      "cell_type": "markdown",
      "source": [
        "Cut compute windows.\n",
        "\n",
        "Windows are the network inputs"
      ],
      "metadata": {
        "id": "GtCIoembg3SE"
      }
    },
    {
      "cell_type": "code",
      "source": [
        "# Cut Compute Windows: another step of preprocessing\n",
        "from braindecode.preprocessing import create_windows_from_events\n",
        "import mne\n",
        "mne.set_log_level('ERROR')\n",
        "\n",
        "trial_start_offset_seconds = -0.5\n",
        "# Extract sampling frequency, check that they are same in all datasets\n",
        "sfreq = dataset.datasets[0].raw.info['sfreq']\n",
        "assert all([ds.raw.info['sfreq'] == sfreq for ds in dataset.datasets])\n",
        "# Calculate the trial start offset in samples.\n",
        "trial_start_offset_samples = int(trial_start_offset_seconds * sfreq)\n",
        "\n",
        "# Create windows using braindecode function for this. It needs parameters to define how\n",
        "# trials should be used.\n",
        "windows_dataset = create_windows_from_events(\n",
        "    dataset,\n",
        "    trial_start_offset_samples=trial_start_offset_samples,\n",
        "    trial_stop_offset_samples=0,\n",
        "    preload=True,\n",
        ")"
      ],
      "metadata": {
        "id": "Dx7dtpTuyfgS"
      },
      "execution_count": null,
      "outputs": []
    },
    {
      "cell_type": "markdown",
      "source": [
        "Another preprocessing: Euclidean Alignment "
      ],
      "metadata": {
        "id": "fcAQFVf1hD1o"
      }
    },
    {
      "cell_type": "code",
      "source": [
        "import numpy as np \n",
        "from scipy.linalg import sqrtm, inv\n",
        "from numpy import iscomplexobj, real, any, isfinite\n",
        "### Define this as Transformation, maybe...\n",
        "def euclidean_alignment(data, y=None):\n",
        "\n",
        "  assert len(data.shape) == 3\n",
        "  # r = np.matmul(data, data.transpose((0, 2, 1))).mean(0)\n",
        "\n",
        "  #calculate covariance matrix of each trial\n",
        "  # list_cov = list()\n",
        "  r = 0\n",
        "  for trial in data:\n",
        "      cov = np.cov(trial, rowvar=True)\n",
        "      r += cov\n",
        "\n",
        "  r = r/len(data)\n",
        "\n",
        "  if iscomplexobj(r):\n",
        "      print(\"covariance matrix problem\")\n",
        "  if iscomplexobj(sqrtm(r)):\n",
        "      print(\"covariance matrix problem sqrt\")\n",
        "\n",
        "  r_op = inv(sqrtm(r))\n",
        "\n",
        "  if iscomplexobj(r_op):\n",
        "      print(\"WARNING! Covariance matrix was not SPD somehow. \"+\n",
        "            \"Can be caused by running ICA-EOG rejection, if \"+\n",
        "            \"not, check data!!\")\n",
        "      r_op = real(r_op).astype(np.float64)\n",
        "  elif not any(isfinite(r_op)):\n",
        "      print(\"WARNING! Not finite values in R Matrix\")\n",
        "\n",
        "  result = np.matmul(r_op, data)\n",
        "  return result\n"
      ],
      "metadata": {
        "id": "L0lQONtl2bCO"
      },
      "execution_count": null,
      "outputs": []
    },
    {
      "cell_type": "markdown",
      "source": [
        "Take number of windows and channels used."
      ],
      "metadata": {
        "id": "TsGlpC6wJSMk"
      }
    },
    {
      "cell_type": "code",
      "source": [
        "Aux=windows_dataset.description\n",
        "Test_Aux=Aux[Aux['subject']==1]; Test_Aux_list=Test_Aux.index.tolist()\n",
        "Train_Aux=Aux[Aux['subject']!=1]; Train_Aux_list=Train_Aux.index.tolist()\n",
        "Dic={\"train\":Train_Aux_list,\"test\":Test_Aux_list}; train_test=windows_dataset.split(Dic)"
      ],
      "metadata": {
        "id": "t99MHj_vJQ5j"
      },
      "execution_count": null,
      "outputs": []
    },
    {
      "cell_type": "code",
      "source": [
        "Test_aux=train_test['test']\n",
        "n_chans=Test_aux[0][0].shape[0]\n",
        "print(n_chans)\n",
        "input_window_samples = Test_aux[0][0][0].shape[0]\n",
        "print(input_window_samples)"
      ],
      "metadata": {
        "colab": {
          "base_uri": "https://localhost:8080/"
        },
        "id": "y-gkQBBgJgqF",
        "outputId": "9c7dafe4-60bb-4caa-8903-6e51826ac719"
      },
      "execution_count": null,
      "outputs": [
        {
          "output_type": "stream",
          "name": "stdout",
          "text": [
            "22\n",
            "1125\n"
          ]
        }
      ]
    },
    {
      "cell_type": "markdown",
      "source": [
        "**Create model using ShallowConvNet**"
      ],
      "metadata": {
        "id": "M1ypT1uKJqxO"
      }
    },
    {
      "cell_type": "code",
      "source": [
        "# Create model (Using ShallowConvNet)\n",
        "# Execute this after defining the train and test sets \n",
        "import torch\n",
        "from braindecode.util import set_random_seeds\n",
        "from braindecode.models import ShallowFBCSPNet\n",
        "\n",
        "cuda = torch.cuda.is_available()  # check if GPU is available, if True chooses to use it\n",
        "device = 'cuda' if cuda else 'cpu'\n",
        "if cuda:\n",
        "    torch.backends.cudnn.benchmark = False\n",
        "# Set random seed to be able to roughly reproduce results\n",
        "# Note that with cudnn benchmark set to True, GPU indeterminism\n",
        "# may still make results substantially different between runs.\n",
        "# To obtain more consistent results at the cost of increased computation time,\n",
        "# you can set `cudnn_benchmark=False` in `set_random_seeds`\n",
        "# or remove `torch.backends.cudnn.benchmark = True`\n",
        "seed = 20200222\n",
        "set_random_seeds(seed=seed, cuda=cuda)\n",
        "\n",
        "n_classes = 4\n",
        "# Extract number of chans and time steps from dataset\n",
        "\n",
        "model = ShallowFBCSPNet(\n",
        "    n_chans,\n",
        "    n_classes,\n",
        "    input_window_samples=input_window_samples,\n",
        "    final_conv_length='auto',\n",
        "    filter_time_length=10,\n",
        ")\n",
        "\n",
        "# Send model to GPU\n",
        "if cuda:\n",
        "    model.cuda()"
      ],
      "metadata": {
        "id": "gt9qH2DKJpzr"
      },
      "execution_count": null,
      "outputs": []
    },
    {
      "cell_type": "markdown",
      "source": [
        "**Function for the training.**\n",
        "\n",
        "Remember to add regularization and change parameters later."
      ],
      "metadata": {
        "id": "tJ7qvQFiJ4iq"
      }
    },
    {
      "cell_type": "code",
      "source": [
        "# train\n",
        "# I didn't add dropout yet\n",
        "\n",
        "from skorch.callbacks import LRScheduler\n",
        "from skorch.helper import predefined_split\n",
        "\n",
        "from braindecode import EEGClassifier\n",
        "from sklearn.base import clone\n",
        "\n",
        "def train(model, train_set, val_set, device):\n",
        "  # eval: cross validation evaluation\n",
        "  # Good hyperparameters values for shallow net\n",
        "  lr = 0.0625 * 0.01\n",
        "  weight_decay = 0\n",
        "\n",
        "  batch_size = 16\n",
        "  n_epochs = 2\n",
        "\n",
        "  # Model (Classifier)\n",
        "  clf = EEGClassifier(\n",
        "    model,\n",
        "    criterion=torch.nn.NLLLoss,\n",
        "    optimizer=torch.optim.AdamW,\n",
        "    train_split=predefined_split(val_set),  # using valid_set for validation\n",
        "    optimizer__lr=lr,\n",
        "    optimizer__weight_decay=weight_decay,\n",
        "    batch_size=batch_size,\n",
        "    callbacks=[\n",
        "        \"accuracy\", (\"lr_scheduler\", \n",
        "                      LRScheduler('CosineAnnealingLR', T_max=n_epochs - 1)),\n",
        "    ],\n",
        "    device=device,\n",
        "  )\n",
        "\n",
        "  clf=clone(clf)\n",
        "\n",
        "  # Model training for a specified number of epochs. `y` is None as it is already supplied\n",
        "  # in the dataset.\n",
        "  clf.fit(train_set, y=None, epochs=n_epochs)\n",
        "  return clf"
      ],
      "metadata": {
        "id": "XAzAPayZJ3le"
      },
      "execution_count": null,
      "outputs": []
    },
    {
      "cell_type": "markdown",
      "source": [
        "### Auxiliary functions"
      ],
      "metadata": {
        "id": "CIP3QQxei-m4"
      }
    },
    {
      "cell_type": "code",
      "source": [
        "import pandas"
      ],
      "metadata": {
        "id": "zV_STw0ko_GB"
      },
      "execution_count": null,
      "outputs": []
    },
    {
      "cell_type": "code",
      "source": [
        "# FUNCTION TO SPLIT IN TRAIN AND VALIDATION\n",
        "def Split_Train_Val(Aux_train_val, val_subj=None):\n",
        "  \"\"\"\n",
        "  Aux_train_val: DataFrame\n",
        "  subj: int\n",
        "  \"\"\"\n",
        "\n",
        "  if val_subj!=None:\n",
        "    Val_id=Aux_train_val[Aux_train_val['subject']==val_subj]\n",
        "    Val_id_list=Val_id.index.tolist()\n",
        "    Train_id=Aux_train_val[Aux_train_val['subject']!=val_subj]\n",
        "    Train_id_list=Train_id.index.tolist()\n",
        "    \n",
        "  else:\n",
        "    Aux_train=Aux_train_val[Aux_train_val['session']=='session_T']\n",
        "    Aux_train_list=Aux_train.index.tolist()\n",
        "    Aux_val=Aux_train_val[Aux_train_val['session']=='session_E']\n",
        "    Aux_val_list=Aux_val.index.tolist()\n",
        "\n",
        "  Dic={\"train\":Aux_train_list,\"val\": Aux_val_list}\n",
        "  train_val=windows_dataset.split(Dic)\n",
        "  Train=train_val['train']; Val=train_val['val']\n",
        "  return Train, Val"
      ],
      "metadata": {
        "id": "piv9bb3goA4v"
      },
      "execution_count": null,
      "outputs": []
    },
    {
      "cell_type": "code",
      "source": [
        "from scipy.linalg.special_matrices import dft\n",
        "def Split_dataset(DF):\n",
        "  list_=[]\n",
        "  idx=[1,2,3,4,5]\n",
        "\n",
        "  for i in idx:\n",
        "    Aux=DF[DF['subject']==i]\n",
        "    list_.append(Aux.index.tolist())\n",
        "\n",
        "  Dic={f'{idx[i]}':list_[i] for i in range(5)}\n",
        "  Data_subj=windows_dataset.split(Dic)\n",
        "\n",
        "  return Data_subj"
      ],
      "metadata": {
        "id": "MZx7ynB7sJD-"
      },
      "execution_count": null,
      "outputs": []
    },
    {
      "cell_type": "code",
      "source": [
        "def EA_dataset(Data_subj):\n",
        "  idx=[1,2,3,4,5]\n",
        "  for i in idx:\n",
        "    Data_subj[f'{i}']=preprocess(Data_subj[f'{i}'],\n",
        "                                 [Preprocessor(euclidean_alignment,apply_on_array=True)])\n",
        "  return Data_subj"
      ],
      "metadata": {
        "id": "FB7Vb6Dzw4ba"
      },
      "execution_count": null,
      "outputs": []
    },
    {
      "cell_type": "markdown",
      "source": [
        "### Split the data"
      ],
      "metadata": {
        "id": "IzJ8iKa59Mu6"
      }
    },
    {
      "cell_type": "code",
      "source": [
        "  DF=windows_dataset.description"
      ],
      "metadata": {
        "id": "K9Va61yGwFCn"
      },
      "execution_count": null,
      "outputs": []
    },
    {
      "cell_type": "code",
      "source": [],
      "metadata": {
        "id": "c6PIFNxtN2oK"
      },
      "execution_count": null,
      "outputs": []
    },
    {
      "cell_type": "markdown",
      "source": [],
      "metadata": {
        "id": "UjqR2IW8Xt6E"
      }
    },
    {
      "cell_type": "markdown",
      "source": [
        "###**Part 1** \n",
        "\n",
        "One network is trained with almost the entire dataset (minus one individual, the one we want to test).\n",
        "\n",
        "** We align all subjects together and then we chose wich one is the new (test) or we need to align each in their own space? I think it's the last one, because we want all individuals with similar distributions, and therefore, each one with same mean covariance.\n",
        "\n",
        "- Without EA\n",
        "- With EA\n",
        "\n",
        "Then, we compare (*) the difference between: (i) train accuracy and loss; (ii) the predictions in the new individual (maby we can compute the train accuracy to see if the difference in fitting with aligned and non aligned data - is it harder?)."
      ],
      "metadata": {
        "id": "PROP02AaaDXK"
      }
    },
    {
      "cell_type": "markdown",
      "source": [
        "OLD CODE"
      ],
      "metadata": {
        "id": "qTYFK1R6e93T"
      }
    },
    {
      "cell_type": "markdown",
      "source": [
        "NEW CODE"
      ],
      "metadata": {
        "id": "znAootGrckaQ"
      }
    },
    {
      "cell_type": "code",
      "source": [
        "from sklearn.base import clone\n",
        "from skorch.helper import SliceDataset"
      ],
      "metadata": {
        "id": "kw8CLdkylLoO"
      },
      "execution_count": null,
      "outputs": []
    },
    {
      "cell_type": "code",
      "source": [
        "# Train set 1 = Splitted Dataset (without EA) \n",
        "# Train set is every individual except the last one\n",
        "\n",
        "def Part1_loo(model, Data_subjects, device, val_subj=None):\n",
        "\n",
        "  loo=LeaveOneOut()\n",
        "  list_s= list(range(5))\n",
        "\n",
        "  models_list = []\n",
        "  predicts_list = []\n",
        "  # Using Leave-One-Out validation\n",
        "  for train_idx, test_idx in loo.split(list_s):\n",
        "    train_idx=train_idx+1; test_idx=test_idx+1\n",
        "    print(\"Test subject:\",test_idx[0])\n",
        "\n",
        "    # Split in Train and Test\n",
        "    Test_subj=Data_subjects[f'{test_idx[0]}']\n",
        "    Train_Aux=pandas.concat([Data_subjects[f'{i}'].description for i in train_idx])    \n",
        "\n",
        "    # Split in Train and Validation\n",
        "    Train, Val = Split_Train_Val(Train_Aux, val_subj=val_subj)\n",
        "\n",
        "    clf=train(model, Train, Val, device)\n",
        "\n",
        "    y_pred = clf.predict(Test_subj)\n",
        "    y_true = list(SliceDataset(Test_subj, 1))\n",
        "\n",
        "    models_list.append(clf)\n",
        "    predicts_list.append((y_pred,y_true))\n",
        "    \n",
        "  return models_list, predicts_list\n"
      ],
      "metadata": {
        "id": "RijvE42t-8bK"
      },
      "execution_count": null,
      "outputs": []
    },
    {
      "cell_type": "code",
      "source": [
        "# Dataset splitted in subjects\n",
        "Data_subjects=Split_dataset(DF)\n",
        "# Dataset splitted in subjects with Euclidean Alignment\n",
        "Data_subjects_EA=EA_dataset(Data_subjects)\n",
        " \n",
        "models_list, predicts_list = Part1_loo(model, Data_subjects, \n",
        "                                       device, val_subj=None)"
      ],
      "metadata": {
        "id": "mzAsP0DOeW7A",
        "colab": {
          "base_uri": "https://localhost:8080/"
        },
        "outputId": "6ec1ca78-bdef-4ac7-bb3a-eda317375a30"
      },
      "execution_count": null,
      "outputs": [
        {
          "output_type": "stream",
          "name": "stdout",
          "text": [
            "Test subject: 1\n",
            "  epoch    train_accuracy    train_loss    valid_accuracy    valid_loss      lr     dur\n",
            "-------  ----------------  ------------  ----------------  ------------  ------  ------\n",
            "      1            \u001b[36m0.3368\u001b[0m        \u001b[32m1.1749\u001b[0m            \u001b[35m0.2743\u001b[0m        \u001b[31m2.3165\u001b[0m  0.0006  7.0004\n",
            "      2            \u001b[36m0.9757\u001b[0m        \u001b[32m0.4609\u001b[0m            \u001b[35m0.5729\u001b[0m        \u001b[31m0.8600\u001b[0m  0.0005  7.0731\n",
            "      3            \u001b[36m0.9931\u001b[0m        \u001b[32m0.2712\u001b[0m            \u001b[35m0.6389\u001b[0m        \u001b[31m0.7657\u001b[0m  0.0003  7.2603\n",
            "      4            \u001b[36m1.0000\u001b[0m        \u001b[32m0.2109\u001b[0m            0.6354        \u001b[31m0.7484\u001b[0m  0.0001  7.1994\n",
            "      5            1.0000        \u001b[32m0.2092\u001b[0m            0.6389        0.7504  0.0000  7.1879\n",
            "Test subject: 2\n",
            "  epoch    train_accuracy    train_loss    valid_accuracy    valid_loss      lr     dur\n",
            "-------  ----------------  ------------  ----------------  ------------  ------  ------\n",
            "      1            \u001b[36m0.3368\u001b[0m        \u001b[32m1.2206\u001b[0m            \u001b[35m0.2882\u001b[0m        \u001b[31m2.7488\u001b[0m  0.0006  7.2750\n",
            "      2            \u001b[36m0.9826\u001b[0m        \u001b[32m0.4556\u001b[0m            \u001b[35m0.5972\u001b[0m        \u001b[31m0.8337\u001b[0m  0.0005  7.1715\n",
            "      3            \u001b[36m0.9965\u001b[0m        \u001b[32m0.2618\u001b[0m            \u001b[35m0.6597\u001b[0m        \u001b[31m0.7600\u001b[0m  0.0003  7.0856\n",
            "      4            0.9965        \u001b[32m0.2144\u001b[0m            0.6528        \u001b[31m0.7455\u001b[0m  0.0001  6.9830\n",
            "      5            0.9965        \u001b[32m0.1927\u001b[0m            0.6424        0.7456  0.0000  7.0146\n",
            "Test subject: 3\n",
            "  epoch    train_accuracy    train_loss    valid_accuracy    valid_loss      lr     dur\n",
            "-------  ----------------  ------------  ----------------  ------------  ------  ------\n",
            "      1            \u001b[36m0.3299\u001b[0m        \u001b[32m1.2142\u001b[0m            \u001b[35m0.2917\u001b[0m        \u001b[31m2.8735\u001b[0m  0.0006  7.0699\n",
            "      2            \u001b[36m0.9861\u001b[0m        \u001b[32m0.4616\u001b[0m            \u001b[35m0.6285\u001b[0m        \u001b[31m0.8247\u001b[0m  0.0005  7.1133\n",
            "      3            \u001b[36m0.9965\u001b[0m        \u001b[32m0.2758\u001b[0m            \u001b[35m0.6667\u001b[0m        \u001b[31m0.7231\u001b[0m  0.0003  7.1045\n",
            "      4            \u001b[36m1.0000\u001b[0m        \u001b[32m0.2183\u001b[0m            0.6597        \u001b[31m0.7154\u001b[0m  0.0001  7.1154\n",
            "      5            1.0000        \u001b[32m0.2028\u001b[0m            0.6562        0.7161  0.0000  7.1153\n",
            "Test subject: 4\n",
            "  epoch    train_accuracy    train_loss    valid_accuracy    valid_loss      lr     dur\n",
            "-------  ----------------  ------------  ----------------  ------------  ------  ------\n",
            "      1            \u001b[36m0.2604\u001b[0m        \u001b[32m1.2211\u001b[0m            \u001b[35m0.2535\u001b[0m        \u001b[31m2.8432\u001b[0m  0.0006  7.2618\n",
            "      2            \u001b[36m0.9792\u001b[0m        \u001b[32m0.4747\u001b[0m            \u001b[35m0.5938\u001b[0m        \u001b[31m0.8532\u001b[0m  0.0005  7.1136\n",
            "      3            \u001b[36m0.9931\u001b[0m        \u001b[32m0.2707\u001b[0m            \u001b[35m0.6354\u001b[0m        \u001b[31m0.7724\u001b[0m  0.0003  7.1399\n",
            "      4            0.9931        \u001b[32m0.2193\u001b[0m            \u001b[35m0.6458\u001b[0m        \u001b[31m0.7562\u001b[0m  0.0001  7.0803\n",
            "      5            0.9931        \u001b[32m0.2022\u001b[0m            0.6389        0.7568  0.0000  7.0676\n",
            "Test subject: 5\n",
            "  epoch    train_accuracy    train_loss    valid_accuracy    valid_loss      lr     dur\n",
            "-------  ----------------  ------------  ----------------  ------------  ------  ------\n",
            "      1            \u001b[36m0.6840\u001b[0m        \u001b[32m1.1986\u001b[0m            \u001b[35m0.4583\u001b[0m        \u001b[31m2.1414\u001b[0m  0.0006  7.0876\n",
            "      2            \u001b[36m0.9861\u001b[0m        \u001b[32m0.4803\u001b[0m            \u001b[35m0.5625\u001b[0m        \u001b[31m0.8732\u001b[0m  0.0005  7.0649\n",
            "      3            \u001b[36m0.9965\u001b[0m        \u001b[32m0.2730\u001b[0m            \u001b[35m0.6250\u001b[0m        \u001b[31m0.7776\u001b[0m  0.0003  7.0566\n",
            "      4            0.9965        \u001b[32m0.2131\u001b[0m            \u001b[35m0.6319\u001b[0m        \u001b[31m0.7641\u001b[0m  0.0001  7.0816\n",
            "      5            0.9965        \u001b[32m0.1928\u001b[0m            0.6250        0.7664  0.0000  7.5191\n"
          ]
        }
      ]
    },
    {
      "cell_type": "code",
      "source": [
        "import numpy as np\n",
        "\n",
        "np.savez(pathsave, models_list=models_list, Train=Train, Val=Val)"
      ],
      "metadata": {
        "colab": {
          "base_uri": "https://localhost:8080/"
        },
        "id": "_pGVrKwAZDpD",
        "outputId": "10633b4d-82a1-4cae-9d40-d797343bab1f"
      },
      "execution_count": null,
      "outputs": [
        {
          "output_type": "execute_result",
          "data": {
            "text/plain": [
              "2"
            ]
          },
          "metadata": {},
          "execution_count": 29
        }
      ]
    },
    {
      "cell_type": "code",
      "source": [
        "import numpy as np\n",
        "for idx, test_subj in enumerate(predicts_list):\n",
        "  filename = f\"loo_part_1_without_EA_subject_{idx}.npz\"\n",
        "  np.savez(file=filename, y_pred = test_subj[0], y_true = test_subj[1])"
      ],
      "metadata": {
        "id": "DGqVeU_bZTUI"
      },
      "execution_count": null,
      "outputs": []
    },
    {
      "cell_type": "code",
      "source": [
        "np_struct = np.load(\"loo_part_1_without_EA_subject_0.npz\")"
      ],
      "metadata": {
        "id": "O-xsWXmXaFZ3"
      },
      "execution_count": null,
      "outputs": []
    },
    {
      "cell_type": "code",
      "source": [
        "from sklearn.metrics import balanced_accuracy_score\n",
        "from glob import glob\n",
        "file_list = glob(\"*without*.npz\")\n",
        "file_list.sort()\n",
        "without_ea = []\n",
        "\n",
        "for filename in file_list:\n",
        "  np_struct = np.load(filename)\n",
        "  bac = balanced_accuracy_score(y_true=np_struct['y_true'], y_pred=np_struct['y_pred'])\n",
        "  print(bac)\n",
        "  without_ea.append(bac)"
      ],
      "metadata": {
        "colab": {
          "base_uri": "https://localhost:8080/"
        },
        "id": "0DZrF0LJaa5G",
        "outputId": "e98b4126-593d-4f26-d6c8-934e17d88a0f"
      },
      "execution_count": null,
      "outputs": [
        {
          "output_type": "stream",
          "name": "stdout",
          "text": [
            "0.8194444444444445\n",
            "0.265625\n",
            "0.453125\n",
            "0.3211805555555555\n",
            "0.27777777777777773\n"
          ]
        }
      ]
    },
    {
      "cell_type": "code",
      "source": [
        "import pandas as pd\n",
        "metrica_ba = pd.DataFrame([without_ea, with_ea]).T\n",
        "metrica_ba.columns = ['sem_ea', 'com_ea']"
      ],
      "metadata": {
        "id": "SZJ_aDCGcSpp"
      },
      "execution_count": null,
      "outputs": []
    },
    {
      "cell_type": "code",
      "source": [
        "metrica_ba"
      ],
      "metadata": {
        "colab": {
          "base_uri": "https://localhost:8080/",
          "height": 206
        },
        "id": "HvWVw0B7ccCI",
        "outputId": "483ba408-af8f-4eee-eae0-c9bd559b0a59"
      },
      "execution_count": null,
      "outputs": [
        {
          "output_type": "execute_result",
          "data": {
            "text/plain": [
              "     sem_ea    com_ea\n",
              "0  0.819444  0.798611\n",
              "1  0.265625  0.272569\n",
              "2  0.453125  0.440972\n",
              "3  0.321181  0.331597\n",
              "4  0.277778  0.284722"
            ],
            "text/html": [
              "\n",
              "  <div id=\"df-46472dc9-ee55-4d37-89c6-cd50fad8ccd6\">\n",
              "    <div class=\"colab-df-container\">\n",
              "      <div>\n",
              "<style scoped>\n",
              "    .dataframe tbody tr th:only-of-type {\n",
              "        vertical-align: middle;\n",
              "    }\n",
              "\n",
              "    .dataframe tbody tr th {\n",
              "        vertical-align: top;\n",
              "    }\n",
              "\n",
              "    .dataframe thead th {\n",
              "        text-align: right;\n",
              "    }\n",
              "</style>\n",
              "<table border=\"1\" class=\"dataframe\">\n",
              "  <thead>\n",
              "    <tr style=\"text-align: right;\">\n",
              "      <th></th>\n",
              "      <th>sem_ea</th>\n",
              "      <th>com_ea</th>\n",
              "    </tr>\n",
              "  </thead>\n",
              "  <tbody>\n",
              "    <tr>\n",
              "      <th>0</th>\n",
              "      <td>0.819444</td>\n",
              "      <td>0.798611</td>\n",
              "    </tr>\n",
              "    <tr>\n",
              "      <th>1</th>\n",
              "      <td>0.265625</td>\n",
              "      <td>0.272569</td>\n",
              "    </tr>\n",
              "    <tr>\n",
              "      <th>2</th>\n",
              "      <td>0.453125</td>\n",
              "      <td>0.440972</td>\n",
              "    </tr>\n",
              "    <tr>\n",
              "      <th>3</th>\n",
              "      <td>0.321181</td>\n",
              "      <td>0.331597</td>\n",
              "    </tr>\n",
              "    <tr>\n",
              "      <th>4</th>\n",
              "      <td>0.277778</td>\n",
              "      <td>0.284722</td>\n",
              "    </tr>\n",
              "  </tbody>\n",
              "</table>\n",
              "</div>\n",
              "      <button class=\"colab-df-convert\" onclick=\"convertToInteractive('df-46472dc9-ee55-4d37-89c6-cd50fad8ccd6')\"\n",
              "              title=\"Convert this dataframe to an interactive table.\"\n",
              "              style=\"display:none;\">\n",
              "        \n",
              "  <svg xmlns=\"http://www.w3.org/2000/svg\" height=\"24px\"viewBox=\"0 0 24 24\"\n",
              "       width=\"24px\">\n",
              "    <path d=\"M0 0h24v24H0V0z\" fill=\"none\"/>\n",
              "    <path d=\"M18.56 5.44l.94 2.06.94-2.06 2.06-.94-2.06-.94-.94-2.06-.94 2.06-2.06.94zm-11 1L8.5 8.5l.94-2.06 2.06-.94-2.06-.94L8.5 2.5l-.94 2.06-2.06.94zm10 10l.94 2.06.94-2.06 2.06-.94-2.06-.94-.94-2.06-.94 2.06-2.06.94z\"/><path d=\"M17.41 7.96l-1.37-1.37c-.4-.4-.92-.59-1.43-.59-.52 0-1.04.2-1.43.59L10.3 9.45l-7.72 7.72c-.78.78-.78 2.05 0 2.83L4 21.41c.39.39.9.59 1.41.59.51 0 1.02-.2 1.41-.59l7.78-7.78 2.81-2.81c.8-.78.8-2.07 0-2.86zM5.41 20L4 18.59l7.72-7.72 1.47 1.35L5.41 20z\"/>\n",
              "  </svg>\n",
              "      </button>\n",
              "      \n",
              "  <style>\n",
              "    .colab-df-container {\n",
              "      display:flex;\n",
              "      flex-wrap:wrap;\n",
              "      gap: 12px;\n",
              "    }\n",
              "\n",
              "    .colab-df-convert {\n",
              "      background-color: #E8F0FE;\n",
              "      border: none;\n",
              "      border-radius: 50%;\n",
              "      cursor: pointer;\n",
              "      display: none;\n",
              "      fill: #1967D2;\n",
              "      height: 32px;\n",
              "      padding: 0 0 0 0;\n",
              "      width: 32px;\n",
              "    }\n",
              "\n",
              "    .colab-df-convert:hover {\n",
              "      background-color: #E2EBFA;\n",
              "      box-shadow: 0px 1px 2px rgba(60, 64, 67, 0.3), 0px 1px 3px 1px rgba(60, 64, 67, 0.15);\n",
              "      fill: #174EA6;\n",
              "    }\n",
              "\n",
              "    [theme=dark] .colab-df-convert {\n",
              "      background-color: #3B4455;\n",
              "      fill: #D2E3FC;\n",
              "    }\n",
              "\n",
              "    [theme=dark] .colab-df-convert:hover {\n",
              "      background-color: #434B5C;\n",
              "      box-shadow: 0px 1px 3px 1px rgba(0, 0, 0, 0.15);\n",
              "      filter: drop-shadow(0px 1px 2px rgba(0, 0, 0, 0.3));\n",
              "      fill: #FFFFFF;\n",
              "    }\n",
              "  </style>\n",
              "\n",
              "      <script>\n",
              "        const buttonEl =\n",
              "          document.querySelector('#df-46472dc9-ee55-4d37-89c6-cd50fad8ccd6 button.colab-df-convert');\n",
              "        buttonEl.style.display =\n",
              "          google.colab.kernel.accessAllowed ? 'block' : 'none';\n",
              "\n",
              "        async function convertToInteractive(key) {\n",
              "          const element = document.querySelector('#df-46472dc9-ee55-4d37-89c6-cd50fad8ccd6');\n",
              "          const dataTable =\n",
              "            await google.colab.kernel.invokeFunction('convertToInteractive',\n",
              "                                                     [key], {});\n",
              "          if (!dataTable) return;\n",
              "\n",
              "          const docLinkHtml = 'Like what you see? Visit the ' +\n",
              "            '<a target=\"_blank\" href=https://colab.research.google.com/notebooks/data_table.ipynb>data table notebook</a>'\n",
              "            + ' to learn more about interactive tables.';\n",
              "          element.innerHTML = '';\n",
              "          dataTable['output_type'] = 'display_data';\n",
              "          await google.colab.output.renderOutput(dataTable, element);\n",
              "          const docLink = document.createElement('div');\n",
              "          docLink.innerHTML = docLinkHtml;\n",
              "          element.appendChild(docLink);\n",
              "        }\n",
              "      </script>\n",
              "    </div>\n",
              "  </div>\n",
              "  "
            ]
          },
          "metadata": {},
          "execution_count": 68
        }
      ]
    },
    {
      "cell_type": "code",
      "source": [
        "np.mean(without_ea)"
      ],
      "metadata": {
        "colab": {
          "base_uri": "https://localhost:8080/"
        },
        "id": "QDE7cz0kcI1q",
        "outputId": "9a589d1c-02b9-4ceb-e29f-5813dd320522"
      },
      "execution_count": null,
      "outputs": [
        {
          "output_type": "execute_result",
          "data": {
            "text/plain": [
              "0.42743055555555565"
            ]
          },
          "metadata": {},
          "execution_count": 57
        }
      ]
    },
    {
      "cell_type": "code",
      "source": [
        "np.mean(with_ea)"
      ],
      "metadata": {
        "colab": {
          "base_uri": "https://localhost:8080/"
        },
        "id": "9LIMwT4ocMRH",
        "outputId": "c7b87ab3-3521-4e7b-8912-94d927e5fba9"
      },
      "execution_count": null,
      "outputs": [
        {
          "output_type": "execute_result",
          "data": {
            "text/plain": [
              "0.4256944444444445"
            ]
          },
          "metadata": {},
          "execution_count": 58
        }
      ]
    },
    {
      "cell_type": "code",
      "source": [
        "models_list_EU, predicts_list_EU = Part1_loo(model, Data_subjects_EA, \n",
        "                                       device, val_subj=None)"
      ],
      "metadata": {
        "colab": {
          "base_uri": "https://localhost:8080/"
        },
        "id": "c_BVA2tWs3q4",
        "outputId": "e11741b5-1ce7-4b10-e20e-e2ba1aed7e92"
      },
      "execution_count": null,
      "outputs": [
        {
          "output_type": "stream",
          "name": "stdout",
          "text": [
            "Test subject: 1\n",
            "  epoch    train_accuracy    train_loss    valid_accuracy    valid_loss      lr     dur\n",
            "-------  ----------------  ------------  ----------------  ------------  ------  ------\n",
            "      1            \u001b[36m0.9792\u001b[0m        \u001b[32m0.8450\u001b[0m            \u001b[35m0.6007\u001b[0m        \u001b[31m0.8160\u001b[0m  0.0006  2.1739\n",
            "      2            \u001b[36m0.9861\u001b[0m        \u001b[32m0.2892\u001b[0m            \u001b[35m0.6111\u001b[0m        \u001b[31m0.8096\u001b[0m  0.0000  2.0411\n",
            "Test subject: 2\n",
            "  epoch    train_accuracy    train_loss    valid_accuracy    valid_loss      lr     dur\n",
            "-------  ----------------  ------------  ----------------  ------------  ------  ------\n",
            "      1            \u001b[36m0.9722\u001b[0m        \u001b[32m0.8628\u001b[0m            \u001b[35m0.5938\u001b[0m        \u001b[31m0.8343\u001b[0m  0.0006  2.0054\n",
            "      2            \u001b[36m0.9757\u001b[0m        \u001b[32m0.3153\u001b[0m            0.5938        \u001b[31m0.8241\u001b[0m  0.0000  1.9909\n",
            "Test subject: 3\n",
            "  epoch    train_accuracy    train_loss    valid_accuracy    valid_loss      lr     dur\n",
            "-------  ----------------  ------------  ----------------  ------------  ------  ------\n",
            "      1            \u001b[36m0.9792\u001b[0m        \u001b[32m0.8828\u001b[0m            \u001b[35m0.6042\u001b[0m        \u001b[31m0.7687\u001b[0m  0.0006  2.1436\n",
            "      2            \u001b[36m0.9826\u001b[0m        \u001b[32m0.2853\u001b[0m            0.6042        0.7805  0.0000  2.1676\n",
            "Test subject: 4\n",
            "  epoch    train_accuracy    train_loss    valid_accuracy    valid_loss      lr     dur\n",
            "-------  ----------------  ------------  ----------------  ------------  ------  ------\n",
            "      1            \u001b[36m0.9757\u001b[0m        \u001b[32m0.8919\u001b[0m            \u001b[35m0.5868\u001b[0m        \u001b[31m0.8394\u001b[0m  0.0006  2.0567\n",
            "      2            0.9757        \u001b[32m0.3001\u001b[0m            \u001b[35m0.6076\u001b[0m        \u001b[31m0.8349\u001b[0m  0.0000  2.1046\n",
            "Test subject: 5\n",
            "  epoch    train_accuracy    train_loss    valid_accuracy    valid_loss      lr     dur\n",
            "-------  ----------------  ------------  ----------------  ------------  ------  ------\n",
            "      1            \u001b[36m0.9792\u001b[0m        \u001b[32m0.8455\u001b[0m            \u001b[35m0.6111\u001b[0m        \u001b[31m0.7853\u001b[0m  0.0006  2.0980\n",
            "      2            0.9792        \u001b[32m0.2933\u001b[0m            \u001b[35m0.6215\u001b[0m        \u001b[31m0.7828\u001b[0m  0.0000  2.0522\n"
          ]
        }
      ]
    },
    {
      "cell_type": "code",
      "source": [
        "import numpy as np\n",
        "for idx, test_subj in enumerate(predicts_list_EU):\n",
        "  filename = f\"loo_part_1_with_EA_subject_{idx}.npz\"\n",
        "  np.savez(file=filename, y_pred = test_subj[0], y_true = test_subj[1])"
      ],
      "metadata": {
        "id": "wuk5Q1GgbtVw"
      },
      "execution_count": null,
      "outputs": []
    },
    {
      "cell_type": "code",
      "source": [
        "from sklearn.metrics import balanced_accuracy_score\n",
        "from glob import glob\n",
        "file_list = glob(\"*with_EA*.npz\")\n",
        "file_list.sort()\n",
        "with_ea=[]\n",
        "for filename in file_list:\n",
        "  np_struct = np.load(filename)\n",
        "  bac = balanced_accuracy_score(y_true=np_struct['y_true'], y_pred=np_struct['y_pred'])\n",
        "  with_ea.append(bac)\n",
        "  print(bac)"
      ],
      "metadata": {
        "colab": {
          "base_uri": "https://localhost:8080/"
        },
        "id": "p14D7rMObnWt",
        "outputId": "aad000e0-6b0a-49f8-e60f-5405c2cb6933"
      },
      "execution_count": null,
      "outputs": [
        {
          "output_type": "stream",
          "name": "stdout",
          "text": [
            "0.7986111111111112\n",
            "0.2725694444444444\n",
            "0.4409722222222222\n",
            "0.3315972222222222\n",
            "0.2847222222222222\n"
          ]
        }
      ]
    },
    {
      "cell_type": "markdown",
      "source": [
        "###**Part 2**\n",
        "\n",
        "N-1 networks, each trained with data from a single individual.\n",
        "\n",
        "- Without EA\n",
        "- With EA \n",
        "\n",
        "Then, we compare (\\*) the difference between: (i) train accuracy and loss of each network; (ii) the predictions in the new individual  of **each network** (maby we can compute the train accuracy to see if the difference in fitting with aligned and non aligned data - is it harder?).\n"
      ],
      "metadata": {
        "id": "rO1HcDjkaR4d"
      }
    },
    {
      "cell_type": "markdown",
      "source": [
        "NEW CODE"
      ],
      "metadata": {
        "id": "9oUm38jMcoJQ"
      }
    },
    {
      "cell_type": "code",
      "source": [
        "# Train set 1 = Splitted Dataset (without EA) \n",
        "# Train set is every individual except the last one\n",
        "\n",
        "def Part2_loo(model, Data_subjects, device, val_subj=None):\n",
        "\n",
        "  DF=windows_dataset.description\n",
        "  loo=LeaveOneOut()\n",
        "  list_s= list(range(5))\n",
        "\n",
        "  model_loo=[]\n",
        "\n",
        "  # Using Leave-One-Out validation\n",
        "  for train_idx, test_idx in loo.split(list_s):\n",
        "    train_idx=train_idx+1; test_idx=test_idx+1\n",
        "    print(\"Test subject:\",test_idx[0])\n",
        "\n",
        "    # Split in Train and Test\n",
        "    Test_subj=Data_subjects[f'{test_idx[0]}']\n",
        "    Train_Aux=pandas.concat([Data_subjects[f'{i}'].description for i in train_idx])   \n",
        "    models_list = []   \n",
        "\n",
        "    for id_person in train_idx:\n",
        "      print(\"   Model for train subject\", id_person)\n",
        "      Train_subj=Train_Aux[Train_Aux['subject']==id_person]\n",
        "      # Split in Train and Validation\n",
        "      Train, Val = Split_Train_Val(Train_subj, val_subj=val_subj)\n",
        "\n",
        "      clf=train(model, Train, Val, device)\n",
        "      models_list.append(clf)\n",
        "\n",
        "    model_loo.append(models_list)\n"
      ],
      "metadata": {
        "id": "andtdKVaaXEN"
      },
      "execution_count": null,
      "outputs": []
    },
    {
      "cell_type": "code",
      "source": [
        "Part2_loo(model, Data_subjects, device,val_subj=None)"
      ],
      "metadata": {
        "id": "Z4wXGzdcbdZ8",
        "colab": {
          "base_uri": "https://localhost:8080/"
        },
        "outputId": "8c9dcfc9-8f05-498e-8edc-16b319a154a5"
      },
      "execution_count": null,
      "outputs": [
        {
          "output_type": "stream",
          "name": "stdout",
          "text": [
            "Test subject: 1\n",
            "   Model for train subject 2\n",
            "  epoch    train_accuracy    train_loss    valid_accuracy    valid_loss      lr     dur\n",
            "-------  ----------------  ------------  ----------------  ------------  ------  ------\n",
            "      1            \u001b[36m0.2535\u001b[0m        \u001b[32m1.6258\u001b[0m            \u001b[35m0.2535\u001b[0m        \u001b[31m3.8704\u001b[0m  0.0006  1.7582\n",
            "      2            \u001b[36m0.4132\u001b[0m        \u001b[32m1.1744\u001b[0m            \u001b[35m0.3299\u001b[0m        \u001b[31m3.0085\u001b[0m  0.0006  1.7130\n",
            "      3            0.2847        \u001b[32m0.9085\u001b[0m            0.2604        \u001b[31m2.9103\u001b[0m  0.0006  1.7352\n",
            "      4            0.2743        \u001b[32m0.6731\u001b[0m            0.2604        \u001b[31m2.7534\u001b[0m  0.0006  1.7530\n",
            "      5            \u001b[36m0.4792\u001b[0m        \u001b[32m0.6010\u001b[0m            0.3056        \u001b[31m1.7063\u001b[0m  0.0005  1.7744\n",
            "      6            \u001b[36m0.8090\u001b[0m        \u001b[32m0.4521\u001b[0m            \u001b[35m0.4514\u001b[0m        \u001b[31m1.1874\u001b[0m  0.0004  1.7933\n",
            "      7            \u001b[36m0.9722\u001b[0m        \u001b[32m0.4405\u001b[0m            \u001b[35m0.5486\u001b[0m        \u001b[31m0.9641\u001b[0m  0.0004  1.7745\n",
            "      8            \u001b[36m0.9826\u001b[0m        \u001b[32m0.3724\u001b[0m            \u001b[35m0.5625\u001b[0m        \u001b[31m0.8839\u001b[0m  0.0003  1.7783\n",
            "      9            \u001b[36m0.9931\u001b[0m        \u001b[32m0.3308\u001b[0m            \u001b[35m0.5729\u001b[0m        \u001b[31m0.8527\u001b[0m  0.0002  1.7626\n",
            "     10            0.9931        \u001b[32m0.3000\u001b[0m            0.5660        \u001b[31m0.8443\u001b[0m  0.0002  1.7607\n",
            "     11            0.9931        \u001b[32m0.2934\u001b[0m            0.5694        \u001b[31m0.8414\u001b[0m  0.0001  1.7309\n",
            "     12            0.9931        0.2964            \u001b[35m0.5764\u001b[0m        \u001b[31m0.8402\u001b[0m  0.0001  1.7197\n",
            "     13            \u001b[36m1.0000\u001b[0m        \u001b[32m0.2732\u001b[0m            0.5694        \u001b[31m0.8391\u001b[0m  0.0000  1.7079\n",
            "     14            0.9965        0.2831            0.5694        \u001b[31m0.8388\u001b[0m  0.0000  1.6893\n",
            "     15            0.9965        \u001b[32m0.2640\u001b[0m            0.5694        0.8395  0.0000  1.6961\n",
            "   Model for train subject 3\n",
            "  epoch    train_accuracy    train_loss    valid_accuracy    valid_loss      lr     dur\n",
            "-------  ----------------  ------------  ----------------  ------------  ------  ------\n",
            "      1            \u001b[36m0.2743\u001b[0m        \u001b[32m1.5791\u001b[0m            \u001b[35m0.2500\u001b[0m        \u001b[31m3.3439\u001b[0m  0.0006  1.6888\n",
            "      2            \u001b[36m0.3993\u001b[0m        \u001b[32m1.2449\u001b[0m            \u001b[35m0.2569\u001b[0m        \u001b[31m3.1234\u001b[0m  0.0006  1.6841\n",
            "      3            0.3368        \u001b[32m0.8731\u001b[0m            \u001b[35m0.2604\u001b[0m        \u001b[31m2.6128\u001b[0m  0.0006  1.6797\n",
            "      4            \u001b[36m0.5139\u001b[0m        \u001b[32m0.6716\u001b[0m            \u001b[35m0.3646\u001b[0m        \u001b[31m1.9220\u001b[0m  0.0006  1.6636\n",
            "      5            \u001b[36m0.6562\u001b[0m        \u001b[32m0.5422\u001b[0m            \u001b[35m0.4410\u001b[0m        \u001b[31m1.4287\u001b[0m  0.0005  1.6631\n",
            "      6            \u001b[36m0.8507\u001b[0m        \u001b[32m0.4407\u001b[0m            \u001b[35m0.5243\u001b[0m        \u001b[31m1.1059\u001b[0m  0.0004  1.6639\n",
            "      7            \u001b[36m0.9722\u001b[0m        \u001b[32m0.4069\u001b[0m            \u001b[35m0.5451\u001b[0m        \u001b[31m0.9320\u001b[0m  0.0004  1.6586\n",
            "      8            \u001b[36m0.9896\u001b[0m        \u001b[32m0.3597\u001b[0m            \u001b[35m0.5972\u001b[0m        \u001b[31m0.8588\u001b[0m  0.0003  1.6395\n",
            "      9            0.9861        \u001b[32m0.3345\u001b[0m            0.5938        \u001b[31m0.8312\u001b[0m  0.0002  1.6494\n",
            "     10            0.9861        \u001b[32m0.2719\u001b[0m            0.5903        \u001b[31m0.8233\u001b[0m  0.0002  1.6489\n",
            "     11            0.9896        \u001b[32m0.2611\u001b[0m            0.5868        \u001b[31m0.8189\u001b[0m  0.0001  1.6450\n",
            "     12            0.9896        0.2807            0.5938        \u001b[31m0.8174\u001b[0m  0.0001  1.6590\n",
            "     13            0.9896        \u001b[32m0.2406\u001b[0m            0.5903        \u001b[31m0.8170\u001b[0m  0.0000  1.7862\n",
            "     14            0.9861        0.2693            0.5868        \u001b[31m0.8162\u001b[0m  0.0000  1.6460\n",
            "     15            0.9861        0.2613            0.5833        0.8169  0.0000  1.6477\n",
            "   Model for train subject 4\n",
            "  epoch    train_accuracy    train_loss    valid_accuracy    valid_loss      lr     dur\n",
            "-------  ----------------  ------------  ----------------  ------------  ------  ------\n",
            "      1            \u001b[36m0.2500\u001b[0m        \u001b[32m1.6664\u001b[0m            \u001b[35m0.2569\u001b[0m        \u001b[31m4.0691\u001b[0m  0.0006  1.6446\n",
            "      2            \u001b[36m0.3507\u001b[0m        \u001b[32m1.2007\u001b[0m            \u001b[35m0.2778\u001b[0m        \u001b[31m3.1370\u001b[0m  0.0006  1.6535\n",
            "      3            \u001b[36m0.4896\u001b[0m        \u001b[32m0.8689\u001b[0m            \u001b[35m0.3229\u001b[0m        \u001b[31m2.4486\u001b[0m  0.0006  1.6617\n",
            "      4            0.4792        \u001b[32m0.7121\u001b[0m            \u001b[35m0.3403\u001b[0m        \u001b[31m2.0716\u001b[0m  0.0006  1.6621\n",
            "      5            \u001b[36m0.5556\u001b[0m        \u001b[32m0.5404\u001b[0m            \u001b[35m0.3681\u001b[0m        \u001b[31m1.6189\u001b[0m  0.0005  1.6576\n",
            "      6            \u001b[36m0.8403\u001b[0m        \u001b[32m0.4185\u001b[0m            \u001b[35m0.4722\u001b[0m        \u001b[31m1.1609\u001b[0m  0.0004  1.6693\n",
            "      7            \u001b[36m0.9618\u001b[0m        \u001b[32m0.3970\u001b[0m            \u001b[35m0.5382\u001b[0m        \u001b[31m0.9541\u001b[0m  0.0004  1.6761\n",
            "      8            \u001b[36m0.9826\u001b[0m        \u001b[32m0.3805\u001b[0m            \u001b[35m0.5938\u001b[0m        \u001b[31m0.8775\u001b[0m  0.0003  1.6791\n",
            "      9            \u001b[36m0.9861\u001b[0m        \u001b[32m0.3270\u001b[0m            \u001b[35m0.6042\u001b[0m        \u001b[31m0.8352\u001b[0m  0.0002  1.6827\n",
            "     10            \u001b[36m0.9896\u001b[0m        \u001b[32m0.2894\u001b[0m            \u001b[35m0.6181\u001b[0m        \u001b[31m0.8172\u001b[0m  0.0002  1.6844\n",
            "     11            0.9896        0.3073            0.6111        \u001b[31m0.8095\u001b[0m  0.0001  1.6837\n",
            "     12            \u001b[36m0.9931\u001b[0m        0.2906            0.6076        \u001b[31m0.8050\u001b[0m  0.0001  1.6874\n",
            "     13            \u001b[36m0.9965\u001b[0m        \u001b[32m0.2624\u001b[0m            0.6111        \u001b[31m0.8031\u001b[0m  0.0000  1.6901\n",
            "     14            0.9965        0.2719            0.6111        \u001b[31m0.8029\u001b[0m  0.0000  1.6911\n",
            "     15            0.9965        0.2668            0.6146        \u001b[31m0.8028\u001b[0m  0.0000  1.6899\n",
            "   Model for train subject 5\n",
            "  epoch    train_accuracy    train_loss    valid_accuracy    valid_loss      lr     dur\n",
            "-------  ----------------  ------------  ----------------  ------------  ------  ------\n",
            "      1            \u001b[36m0.2535\u001b[0m        \u001b[32m1.6500\u001b[0m            \u001b[35m0.2639\u001b[0m        \u001b[31m3.1657\u001b[0m  0.0006  1.6868\n",
            "      2            0.2500        \u001b[32m1.1723\u001b[0m            0.2535        4.0525  0.0006  1.6973\n",
            "      3            \u001b[36m0.3507\u001b[0m        \u001b[32m0.8604\u001b[0m            \u001b[35m0.3090\u001b[0m        \u001b[31m2.5878\u001b[0m  0.0006  1.6898\n",
            "      4            \u001b[36m0.6632\u001b[0m        \u001b[32m0.7297\u001b[0m            \u001b[35m0.4201\u001b[0m        \u001b[31m1.7520\u001b[0m  0.0006  1.6947\n",
            "      5            \u001b[36m0.7257\u001b[0m        \u001b[32m0.6172\u001b[0m            \u001b[35m0.4340\u001b[0m        \u001b[31m1.3486\u001b[0m  0.0005  1.6953\n",
            "      6            \u001b[36m0.8299\u001b[0m        \u001b[32m0.4981\u001b[0m            \u001b[35m0.4965\u001b[0m        \u001b[31m1.0912\u001b[0m  0.0004  1.6817\n",
            "      7            \u001b[36m0.9375\u001b[0m        \u001b[32m0.3742\u001b[0m            \u001b[35m0.5243\u001b[0m        \u001b[31m0.9600\u001b[0m  0.0004  1.6934\n",
            "      8            \u001b[36m0.9722\u001b[0m        \u001b[32m0.3616\u001b[0m            \u001b[35m0.5625\u001b[0m        \u001b[31m0.8713\u001b[0m  0.0003  1.6940\n",
            "      9            \u001b[36m0.9931\u001b[0m        \u001b[32m0.3106\u001b[0m            \u001b[35m0.5833\u001b[0m        \u001b[31m0.8294\u001b[0m  0.0002  1.6888\n",
            "     10            0.9931        \u001b[32m0.3034\u001b[0m            0.5764        \u001b[31m0.8142\u001b[0m  0.0002  1.6867\n",
            "     11            0.9931        \u001b[32m0.2994\u001b[0m            \u001b[35m0.5868\u001b[0m        \u001b[31m0.8097\u001b[0m  0.0001  1.6856\n",
            "     12            0.9931        \u001b[32m0.2924\u001b[0m            0.5868        \u001b[31m0.8062\u001b[0m  0.0001  1.7239\n",
            "     13            0.9931        \u001b[32m0.2550\u001b[0m            \u001b[35m0.6076\u001b[0m        \u001b[31m0.8046\u001b[0m  0.0000  1.6780\n",
            "     14            0.9931        0.2567            0.6076        \u001b[31m0.8038\u001b[0m  0.0000  1.6878\n",
            "     15            0.9931        0.2786            0.6042        0.8040  0.0000  1.6751\n",
            "Test subject: 2\n",
            "   Model for train subject 1\n",
            "  epoch    train_accuracy    train_loss    valid_accuracy    valid_loss      lr     dur\n",
            "-------  ----------------  ------------  ----------------  ------------  ------  ------\n",
            "      1            \u001b[36m0.2604\u001b[0m        \u001b[32m1.6527\u001b[0m            \u001b[35m0.2604\u001b[0m        \u001b[31m3.4819\u001b[0m  0.0006  1.6674\n",
            "      2            \u001b[36m0.3021\u001b[0m        \u001b[32m1.1657\u001b[0m            0.2535        \u001b[31m3.4169\u001b[0m  0.0006  1.6798\n",
            "      3            0.2639        \u001b[32m0.9037\u001b[0m            0.2535        \u001b[31m2.9536\u001b[0m  0.0006  1.6825\n",
            "      4            \u001b[36m0.3403\u001b[0m        \u001b[32m0.6775\u001b[0m            \u001b[35m0.2812\u001b[0m        \u001b[31m2.3785\u001b[0m  0.0006  1.6751\n",
            "      5            \u001b[36m0.6771\u001b[0m        \u001b[32m0.5786\u001b[0m            \u001b[35m0.4097\u001b[0m        \u001b[31m1.4045\u001b[0m  0.0005  1.6729\n",
            "      6            \u001b[36m0.9028\u001b[0m        \u001b[32m0.4622\u001b[0m            \u001b[35m0.4931\u001b[0m        \u001b[31m1.0384\u001b[0m  0.0004  1.6686\n",
            "      7            \u001b[36m0.9618\u001b[0m        \u001b[32m0.4039\u001b[0m            \u001b[35m0.5174\u001b[0m        \u001b[31m0.9184\u001b[0m  0.0004  1.6776\n",
            "      8            \u001b[36m0.9792\u001b[0m        \u001b[32m0.3798\u001b[0m            \u001b[35m0.5694\u001b[0m        \u001b[31m0.8701\u001b[0m  0.0003  1.6700\n",
            "      9            \u001b[36m0.9931\u001b[0m        \u001b[32m0.3133\u001b[0m            \u001b[35m0.6181\u001b[0m        \u001b[31m0.8382\u001b[0m  0.0002  1.6712\n",
            "     10            0.9931        \u001b[32m0.2705\u001b[0m            0.6111        \u001b[31m0.8247\u001b[0m  0.0002  1.6739\n",
            "     11            \u001b[36m0.9965\u001b[0m        0.3079            0.6076        \u001b[31m0.8178\u001b[0m  0.0001  1.6678\n",
            "     12            0.9965        0.2794            0.6146        \u001b[31m0.8149\u001b[0m  0.0001  1.6723\n",
            "     13            0.9965        0.2740            0.6076        \u001b[31m0.8134\u001b[0m  0.0000  1.6798\n",
            "     14            0.9965        0.3003            0.6042        \u001b[31m0.8131\u001b[0m  0.0000  1.6710\n",
            "     15            0.9965        \u001b[32m0.2699\u001b[0m            0.6042        \u001b[31m0.8130\u001b[0m  0.0000  1.6711\n",
            "   Model for train subject 3\n",
            "  epoch    train_accuracy    train_loss    valid_accuracy    valid_loss      lr     dur\n",
            "-------  ----------------  ------------  ----------------  ------------  ------  ------\n",
            "      1            \u001b[36m0.2535\u001b[0m        \u001b[32m1.5797\u001b[0m            \u001b[35m0.2535\u001b[0m        \u001b[31m3.7277\u001b[0m  0.0006  1.6733\n",
            "      2            \u001b[36m0.2778\u001b[0m        \u001b[32m1.1822\u001b[0m            \u001b[35m0.2743\u001b[0m        \u001b[31m3.0757\u001b[0m  0.0006  1.6846\n",
            "      3            \u001b[36m0.3889\u001b[0m        \u001b[32m0.8867\u001b[0m            \u001b[35m0.3021\u001b[0m        \u001b[31m2.6543\u001b[0m  0.0006  1.6811\n",
            "      4            \u001b[36m0.4097\u001b[0m        \u001b[32m0.7076\u001b[0m            \u001b[35m0.3056\u001b[0m        \u001b[31m2.2204\u001b[0m  0.0006  1.6861\n",
            "      5            \u001b[36m0.5347\u001b[0m        \u001b[32m0.5449\u001b[0m            \u001b[35m0.3576\u001b[0m        \u001b[31m1.6490\u001b[0m  0.0005  1.6774\n",
            "      6            \u001b[36m0.8264\u001b[0m        \u001b[32m0.4733\u001b[0m            \u001b[35m0.4549\u001b[0m        \u001b[31m1.1388\u001b[0m  0.0004  1.6801\n",
            "      7            \u001b[36m0.9618\u001b[0m        \u001b[32m0.3900\u001b[0m            \u001b[35m0.5625\u001b[0m        \u001b[31m0.9237\u001b[0m  0.0004  1.6822\n",
            "      8            \u001b[36m0.9896\u001b[0m        \u001b[32m0.3352\u001b[0m            \u001b[35m0.6042\u001b[0m        \u001b[31m0.8432\u001b[0m  0.0003  1.6837\n",
            "      9            \u001b[36m0.9931\u001b[0m        \u001b[32m0.3145\u001b[0m            \u001b[35m0.6285\u001b[0m        \u001b[31m0.8109\u001b[0m  0.0002  1.6822\n",
            "     10            \u001b[36m1.0000\u001b[0m        \u001b[32m0.2704\u001b[0m            \u001b[35m0.6319\u001b[0m        \u001b[31m0.8024\u001b[0m  0.0002  1.6808\n",
            "     11            1.0000        0.2819            0.6215        \u001b[31m0.7976\u001b[0m  0.0001  1.6827\n",
            "     12            1.0000        \u001b[32m0.2611\u001b[0m            0.6215        \u001b[31m0.7956\u001b[0m  0.0001  1.6865\n",
            "     13            1.0000        0.2916            0.6215        \u001b[31m0.7941\u001b[0m  0.0000  1.6826\n",
            "     14            1.0000        \u001b[32m0.2466\u001b[0m            0.6215        \u001b[31m0.7937\u001b[0m  0.0000  1.6858\n",
            "     15            1.0000        0.2801            0.6250        0.7939  0.0000  1.6858\n",
            "   Model for train subject 4\n",
            "  epoch    train_accuracy    train_loss    valid_accuracy    valid_loss      lr     dur\n",
            "-------  ----------------  ------------  ----------------  ------------  ------  ------\n",
            "      1            \u001b[36m0.3576\u001b[0m        \u001b[32m1.6322\u001b[0m            \u001b[35m0.2778\u001b[0m        \u001b[31m3.6421\u001b[0m  0.0006  1.6816\n",
            "      2            0.2535        \u001b[32m1.1786\u001b[0m            0.2500        4.6154  0.0006  1.6849\n",
            "      3            0.2535        \u001b[32m0.9138\u001b[0m            0.2500        \u001b[31m3.4540\u001b[0m  0.0006  1.6834\n",
            "      4            \u001b[36m0.3993\u001b[0m        \u001b[32m0.6779\u001b[0m            \u001b[35m0.3056\u001b[0m        \u001b[31m2.0960\u001b[0m  0.0006  1.6816\n",
            "      5            \u001b[36m0.6667\u001b[0m        \u001b[32m0.5466\u001b[0m            \u001b[35m0.4167\u001b[0m        \u001b[31m1.5019\u001b[0m  0.0005  1.6851\n",
            "      6            \u001b[36m0.8299\u001b[0m        \u001b[32m0.4966\u001b[0m            \u001b[35m0.4722\u001b[0m        \u001b[31m1.1503\u001b[0m  0.0004  1.6880\n",
            "      7            \u001b[36m0.9618\u001b[0m        \u001b[32m0.4002\u001b[0m            \u001b[35m0.5312\u001b[0m        \u001b[31m0.9389\u001b[0m  0.0004  1.6835\n",
            "      8            \u001b[36m0.9931\u001b[0m        \u001b[32m0.3524\u001b[0m            \u001b[35m0.5729\u001b[0m        \u001b[31m0.8637\u001b[0m  0.0003  1.6800\n",
            "      9            0.9931        0.3526            \u001b[35m0.5868\u001b[0m        \u001b[31m0.8253\u001b[0m  0.0002  1.6831\n",
            "     10            0.9931        \u001b[32m0.2754\u001b[0m            0.5833        \u001b[31m0.8072\u001b[0m  0.0002  1.6773\n",
            "     11            0.9931        \u001b[32m0.2634\u001b[0m            0.5833        \u001b[31m0.7993\u001b[0m  0.0001  1.6854\n",
            "     12            0.9931        0.3062            0.5833        \u001b[31m0.7962\u001b[0m  0.0001  1.6810\n",
            "     13            0.9931        \u001b[32m0.2589\u001b[0m            0.5764        \u001b[31m0.7954\u001b[0m  0.0000  1.6793\n",
            "     14            0.9931        \u001b[32m0.2508\u001b[0m            0.5799        \u001b[31m0.7950\u001b[0m  0.0000  1.6776\n",
            "     15            0.9931        0.2635            0.5799        0.7957  0.0000  1.6779\n",
            "   Model for train subject 5\n",
            "  epoch    train_accuracy    train_loss    valid_accuracy    valid_loss      lr     dur\n",
            "-------  ----------------  ------------  ----------------  ------------  ------  ------\n",
            "      1            \u001b[36m0.2535\u001b[0m        \u001b[32m1.6345\u001b[0m            \u001b[35m0.2535\u001b[0m        \u001b[31m3.4647\u001b[0m  0.0006  1.6712\n",
            "      2            0.2535        \u001b[32m1.1517\u001b[0m            0.2535        4.2453  0.0006  1.6779\n",
            "      3            \u001b[36m0.2569\u001b[0m        \u001b[32m0.8944\u001b[0m            0.2500        \u001b[31m3.2955\u001b[0m  0.0006  1.6831\n",
            "      4            \u001b[36m0.3958\u001b[0m        \u001b[32m0.6606\u001b[0m            \u001b[35m0.3194\u001b[0m        \u001b[31m2.4069\u001b[0m  0.0006  1.6819\n",
            "      5            \u001b[36m0.5174\u001b[0m        \u001b[32m0.5240\u001b[0m            \u001b[35m0.3646\u001b[0m        \u001b[31m1.7434\u001b[0m  0.0005  1.6828\n",
            "      6            \u001b[36m0.8021\u001b[0m        \u001b[32m0.4764\u001b[0m            \u001b[35m0.4514\u001b[0m        \u001b[31m1.1881\u001b[0m  0.0004  1.6803\n",
            "      7            \u001b[36m0.9375\u001b[0m        \u001b[32m0.4341\u001b[0m            \u001b[35m0.5521\u001b[0m        \u001b[31m0.9349\u001b[0m  0.0004  1.6792\n",
            "      8            \u001b[36m0.9722\u001b[0m        \u001b[32m0.3432\u001b[0m            \u001b[35m0.6042\u001b[0m        \u001b[31m0.8381\u001b[0m  0.0003  1.6744\n",
            "      9            \u001b[36m0.9861\u001b[0m        \u001b[32m0.3160\u001b[0m            \u001b[35m0.6076\u001b[0m        \u001b[31m0.8138\u001b[0m  0.0002  1.6816\n",
            "     10            \u001b[36m0.9896\u001b[0m        \u001b[32m0.3060\u001b[0m            \u001b[35m0.6146\u001b[0m        \u001b[31m0.8002\u001b[0m  0.0002  1.6722\n",
            "     11            0.9896        \u001b[32m0.2890\u001b[0m            0.6146        \u001b[31m0.7933\u001b[0m  0.0001  1.6724\n",
            "     12            0.9896        \u001b[32m0.2698\u001b[0m            \u001b[35m0.6181\u001b[0m        \u001b[31m0.7904\u001b[0m  0.0001  1.6702\n",
            "     13            0.9896        0.2814            0.6111        \u001b[31m0.7890\u001b[0m  0.0000  1.6719\n",
            "     14            0.9896        \u001b[32m0.2695\u001b[0m            0.6146        \u001b[31m0.7888\u001b[0m  0.0000  1.6727\n",
            "     15            0.9896        \u001b[32m0.2311\u001b[0m            0.6111        0.7891  0.0000  1.6770\n",
            "Test subject: 3\n",
            "   Model for train subject 1\n",
            "  epoch    train_accuracy    train_loss    valid_accuracy    valid_loss      lr     dur\n",
            "-------  ----------------  ------------  ----------------  ------------  ------  ------\n",
            "      1            \u001b[36m0.2917\u001b[0m        \u001b[32m1.6718\u001b[0m            \u001b[35m0.2535\u001b[0m        \u001b[31m3.4975\u001b[0m  0.0006  1.6716\n",
            "      2            0.2569        \u001b[32m1.2045\u001b[0m            0.2500        3.7856  0.0006  1.6844\n",
            "      3            0.2604        \u001b[32m0.8915\u001b[0m            0.2500        \u001b[31m3.2517\u001b[0m  0.0006  1.6835\n",
            "      4            \u001b[36m0.4479\u001b[0m        \u001b[32m0.6676\u001b[0m            \u001b[35m0.3333\u001b[0m        \u001b[31m2.2432\u001b[0m  0.0006  1.6788\n",
            "      5            \u001b[36m0.5799\u001b[0m        \u001b[32m0.5405\u001b[0m            \u001b[35m0.4062\u001b[0m        \u001b[31m1.5911\u001b[0m  0.0005  1.6829\n",
            "      6            \u001b[36m0.8021\u001b[0m        \u001b[32m0.4582\u001b[0m            \u001b[35m0.4826\u001b[0m        \u001b[31m1.1526\u001b[0m  0.0004  1.6802\n",
            "      7            \u001b[36m0.9236\u001b[0m        \u001b[32m0.3974\u001b[0m            \u001b[35m0.5486\u001b[0m        \u001b[31m0.9238\u001b[0m  0.0004  1.6773\n",
            "      8            \u001b[36m0.9826\u001b[0m        \u001b[32m0.3439\u001b[0m            \u001b[35m0.6285\u001b[0m        \u001b[31m0.8179\u001b[0m  0.0003  1.6742\n",
            "      9            \u001b[36m0.9861\u001b[0m        \u001b[32m0.3152\u001b[0m            \u001b[35m0.6354\u001b[0m        \u001b[31m0.7800\u001b[0m  0.0002  1.6964\n",
            "     10            \u001b[36m0.9931\u001b[0m        \u001b[32m0.2954\u001b[0m            0.6076        \u001b[31m0.7668\u001b[0m  0.0002  1.7178\n",
            "     11            0.9931        \u001b[32m0.2811\u001b[0m            0.6215        \u001b[31m0.7613\u001b[0m  0.0001  1.6808\n",
            "     12            0.9931        \u001b[32m0.2717\u001b[0m            0.6250        \u001b[31m0.7596\u001b[0m  0.0001  1.6780\n",
            "     13            0.9931        \u001b[32m0.2621\u001b[0m            0.6285        0.7598  0.0000  1.6813\n",
            "     14            0.9931        \u001b[32m0.2508\u001b[0m            0.6285        0.7602  0.0000  1.6818\n",
            "     15            0.9931        0.2592            0.6285        0.7601  0.0000  1.6810\n",
            "   Model for train subject 2\n",
            "  epoch    train_accuracy    train_loss    valid_accuracy    valid_loss      lr     dur\n",
            "-------  ----------------  ------------  ----------------  ------------  ------  ------\n",
            "      1            \u001b[36m0.2500\u001b[0m        \u001b[32m1.6876\u001b[0m            \u001b[35m0.2535\u001b[0m        \u001b[31m4.1466\u001b[0m  0.0006  1.6711\n",
            "      2            \u001b[36m0.3750\u001b[0m        \u001b[32m1.1415\u001b[0m            \u001b[35m0.2743\u001b[0m        \u001b[31m3.1709\u001b[0m  0.0006  1.6841\n",
            "      3            0.2535        \u001b[32m0.9156\u001b[0m            0.2500        3.4886  0.0006  1.6802\n",
            "      4            0.2778        \u001b[32m0.7040\u001b[0m            0.2674        \u001b[31m2.5215\u001b[0m  0.0006  1.6811\n",
            "      5            \u001b[36m0.6736\u001b[0m        \u001b[32m0.5200\u001b[0m            \u001b[35m0.3889\u001b[0m        \u001b[31m1.4198\u001b[0m  0.0005  1.6807\n",
            "      6            \u001b[36m0.8681\u001b[0m        \u001b[32m0.4776\u001b[0m            \u001b[35m0.5243\u001b[0m        \u001b[31m1.0469\u001b[0m  0.0004  1.6820\n",
            "      7            \u001b[36m0.9583\u001b[0m        \u001b[32m0.3993\u001b[0m            \u001b[35m0.5729\u001b[0m        \u001b[31m0.8963\u001b[0m  0.0004  1.6833\n",
            "      8            \u001b[36m0.9896\u001b[0m        \u001b[32m0.3576\u001b[0m            \u001b[35m0.6181\u001b[0m        \u001b[31m0.8340\u001b[0m  0.0003  1.6813\n",
            "      9            \u001b[36m0.9931\u001b[0m        \u001b[32m0.3468\u001b[0m            \u001b[35m0.6528\u001b[0m        \u001b[31m0.8092\u001b[0m  0.0002  1.6795\n",
            "     10            0.9931        \u001b[32m0.3164\u001b[0m            0.6424        \u001b[31m0.7956\u001b[0m  0.0002  1.6749\n",
            "     11            0.9931        \u001b[32m0.3010\u001b[0m            0.6424        \u001b[31m0.7877\u001b[0m  0.0001  1.6743\n",
            "     12            \u001b[36m0.9965\u001b[0m        \u001b[32m0.2835\u001b[0m            0.6319        \u001b[31m0.7828\u001b[0m  0.0001  1.6761\n",
            "     13            0.9965        \u001b[32m0.2655\u001b[0m            0.6319        \u001b[31m0.7816\u001b[0m  0.0000  1.6755\n",
            "     14            0.9965        0.2986            0.6354        \u001b[31m0.7813\u001b[0m  0.0000  1.6891\n",
            "     15            0.9965        \u001b[32m0.2553\u001b[0m            0.6389        0.7816  0.0000  1.6730\n",
            "   Model for train subject 4\n",
            "  epoch    train_accuracy    train_loss    valid_accuracy    valid_loss      lr     dur\n",
            "-------  ----------------  ------------  ----------------  ------------  ------  ------\n",
            "      1            \u001b[36m0.2951\u001b[0m        \u001b[32m1.5997\u001b[0m            \u001b[35m0.2674\u001b[0m        \u001b[31m2.9451\u001b[0m  0.0006  1.6689\n",
            "      2            \u001b[36m0.3889\u001b[0m        \u001b[32m1.1352\u001b[0m            0.2396        2.9898  0.0006  1.6824\n",
            "      3            \u001b[36m0.5556\u001b[0m        \u001b[32m0.9322\u001b[0m            \u001b[35m0.3368\u001b[0m        \u001b[31m2.5094\u001b[0m  0.0006  1.6786\n",
            "      4            0.4583        \u001b[32m0.7398\u001b[0m            0.3264        \u001b[31m2.2160\u001b[0m  0.0006  1.6810\n",
            "      5            0.5174        \u001b[32m0.5418\u001b[0m            \u001b[35m0.3403\u001b[0m        \u001b[31m1.7038\u001b[0m  0.0005  1.6793\n",
            "      6            \u001b[36m0.8021\u001b[0m        \u001b[32m0.4594\u001b[0m            \u001b[35m0.4896\u001b[0m        \u001b[31m1.1642\u001b[0m  0.0004  1.6773\n",
            "      7            \u001b[36m0.9549\u001b[0m        \u001b[32m0.4197\u001b[0m            \u001b[35m0.5521\u001b[0m        \u001b[31m0.9403\u001b[0m  0.0004  1.6795\n",
            "      8            \u001b[36m0.9896\u001b[0m        \u001b[32m0.3558\u001b[0m            \u001b[35m0.5868\u001b[0m        \u001b[31m0.8627\u001b[0m  0.0003  1.6787\n",
            "      9            \u001b[36m0.9931\u001b[0m        \u001b[32m0.3162\u001b[0m            \u001b[35m0.6181\u001b[0m        \u001b[31m0.8348\u001b[0m  0.0002  1.6795\n",
            "     10            \u001b[36m0.9965\u001b[0m        \u001b[32m0.3020\u001b[0m            \u001b[35m0.6215\u001b[0m        \u001b[31m0.8247\u001b[0m  0.0002  1.6833\n",
            "     11            0.9965        \u001b[32m0.2768\u001b[0m            \u001b[35m0.6354\u001b[0m        \u001b[31m0.8206\u001b[0m  0.0001  1.6813\n",
            "     12            0.9965        \u001b[32m0.2592\u001b[0m            0.6215        \u001b[31m0.8178\u001b[0m  0.0001  1.6799\n",
            "     13            0.9965        0.2824            0.6215        \u001b[31m0.8167\u001b[0m  0.0000  1.6833\n",
            "     14            0.9965        \u001b[32m0.2530\u001b[0m            0.6250        \u001b[31m0.8164\u001b[0m  0.0000  1.6844\n",
            "     15            0.9965        0.2678            0.6250        0.8167  0.0000  1.6748\n",
            "   Model for train subject 5\n",
            "  epoch    train_accuracy    train_loss    valid_accuracy    valid_loss      lr     dur\n",
            "-------  ----------------  ------------  ----------------  ------------  ------  ------\n",
            "      1            \u001b[36m0.2986\u001b[0m        \u001b[32m1.6398\u001b[0m            \u001b[35m0.2569\u001b[0m        \u001b[31m3.6153\u001b[0m  0.0006  1.6746\n",
            "      2            \u001b[36m0.3924\u001b[0m        \u001b[32m1.2024\u001b[0m            \u001b[35m0.3056\u001b[0m        \u001b[31m3.2213\u001b[0m  0.0006  1.6696\n",
            "      3            0.2639        \u001b[32m0.9035\u001b[0m            0.2569        3.2770  0.0006  1.6761\n",
            "      4            0.3403        \u001b[32m0.6951\u001b[0m            0.2812        \u001b[31m2.2302\u001b[0m  0.0006  1.6641\n",
            "      5            \u001b[36m0.7014\u001b[0m        \u001b[32m0.5362\u001b[0m            \u001b[35m0.3854\u001b[0m        \u001b[31m1.4057\u001b[0m  0.0005  1.6621\n",
            "      6            \u001b[36m0.9271\u001b[0m        \u001b[32m0.4181\u001b[0m            \u001b[35m0.5035\u001b[0m        \u001b[31m1.0400\u001b[0m  0.0004  1.6686\n",
            "      7            \u001b[36m0.9722\u001b[0m        \u001b[32m0.3877\u001b[0m            \u001b[35m0.5486\u001b[0m        \u001b[31m0.9151\u001b[0m  0.0004  1.6701\n",
            "      8            \u001b[36m0.9826\u001b[0m        \u001b[32m0.3818\u001b[0m            \u001b[35m0.5660\u001b[0m        \u001b[31m0.8616\u001b[0m  0.0003  1.6755\n",
            "      9            \u001b[36m0.9861\u001b[0m        \u001b[32m0.3349\u001b[0m            \u001b[35m0.5903\u001b[0m        \u001b[31m0.8377\u001b[0m  0.0002  1.6701\n",
            "     10            \u001b[36m0.9896\u001b[0m        \u001b[32m0.2951\u001b[0m            \u001b[35m0.5972\u001b[0m        \u001b[31m0.8259\u001b[0m  0.0002  1.6705\n",
            "     11            0.9896        0.3051            0.5903        \u001b[31m0.8180\u001b[0m  0.0001  1.6810\n",
            "     12            \u001b[36m0.9931\u001b[0m        \u001b[32m0.2824\u001b[0m            0.5903        \u001b[31m0.8143\u001b[0m  0.0001  1.6765\n",
            "     13            0.9896        \u001b[32m0.2621\u001b[0m            0.5868        \u001b[31m0.8131\u001b[0m  0.0000  1.6809\n",
            "     14            0.9896        \u001b[32m0.2531\u001b[0m            0.5868        0.8131  0.0000  1.6834\n",
            "     15            0.9931        0.2704            0.5868        0.8136  0.0000  1.6835\n",
            "Test subject: 4\n",
            "   Model for train subject 1\n",
            "  epoch    train_accuracy    train_loss    valid_accuracy    valid_loss      lr     dur\n",
            "-------  ----------------  ------------  ----------------  ------------  ------  ------\n",
            "      1            \u001b[36m0.2535\u001b[0m        \u001b[32m1.6600\u001b[0m            \u001b[35m0.2535\u001b[0m        \u001b[31m3.5917\u001b[0m  0.0006  1.6904\n",
            "      2            0.2535        \u001b[32m1.1504\u001b[0m            0.2535        3.9028  0.0006  1.6879\n",
            "      3            0.2535        \u001b[32m0.8823\u001b[0m            0.2500        \u001b[31m3.2484\u001b[0m  0.0006  1.6914\n",
            "      4            \u001b[36m0.4792\u001b[0m        \u001b[32m0.7268\u001b[0m            \u001b[35m0.3368\u001b[0m        \u001b[31m2.0390\u001b[0m  0.0006  1.6864\n",
            "      5            \u001b[36m0.6562\u001b[0m        \u001b[32m0.5674\u001b[0m            \u001b[35m0.3854\u001b[0m        \u001b[31m1.4583\u001b[0m  0.0005  1.6993\n",
            "      6            \u001b[36m0.8750\u001b[0m        \u001b[32m0.4300\u001b[0m            \u001b[35m0.4792\u001b[0m        \u001b[31m1.1080\u001b[0m  0.0004  1.6965\n",
            "      7            \u001b[36m0.9757\u001b[0m        \u001b[32m0.4132\u001b[0m            \u001b[35m0.5417\u001b[0m        \u001b[31m0.9302\u001b[0m  0.0004  1.6969\n",
            "      8            \u001b[36m0.9861\u001b[0m        \u001b[32m0.3290\u001b[0m            \u001b[35m0.5556\u001b[0m        \u001b[31m0.8610\u001b[0m  0.0003  1.6923\n",
            "      9            0.9861        0.3364            \u001b[35m0.5938\u001b[0m        \u001b[31m0.8304\u001b[0m  0.0002  1.6908\n",
            "     10            0.9861        \u001b[32m0.2886\u001b[0m            \u001b[35m0.6007\u001b[0m        \u001b[31m0.8163\u001b[0m  0.0002  1.6859\n",
            "     11            \u001b[36m0.9896\u001b[0m        0.2893            \u001b[35m0.6076\u001b[0m        \u001b[31m0.8091\u001b[0m  0.0001  1.6855\n",
            "     12            0.9896        \u001b[32m0.2442\u001b[0m            \u001b[35m0.6111\u001b[0m        \u001b[31m0.8055\u001b[0m  0.0001  1.6898\n",
            "     13            0.9896        0.2646            \u001b[35m0.6181\u001b[0m        \u001b[31m0.8047\u001b[0m  0.0000  1.6810\n",
            "     14            0.9896        0.2548            0.6181        \u001b[31m0.8039\u001b[0m  0.0000  1.6798\n",
            "     15            0.9896        0.2627            \u001b[35m0.6215\u001b[0m        \u001b[31m0.8037\u001b[0m  0.0000  1.6822\n",
            "   Model for train subject 2\n",
            "  epoch    train_accuracy    train_loss    valid_accuracy    valid_loss      lr     dur\n",
            "-------  ----------------  ------------  ----------------  ------------  ------  ------\n",
            "      1            \u001b[36m0.2535\u001b[0m        \u001b[32m1.6669\u001b[0m            \u001b[35m0.2535\u001b[0m        \u001b[31m3.9268\u001b[0m  0.0006  1.6888\n",
            "      2            \u001b[36m0.4792\u001b[0m        \u001b[32m1.1873\u001b[0m            \u001b[35m0.3368\u001b[0m        \u001b[31m2.7523\u001b[0m  0.0006  1.6861\n",
            "      3            0.4167        \u001b[32m0.8560\u001b[0m            0.3056        \u001b[31m2.4274\u001b[0m  0.0006  1.6826\n",
            "      4            0.4514        \u001b[32m0.7079\u001b[0m            0.3194        \u001b[31m2.1640\u001b[0m  0.0006  1.6789\n",
            "      5            \u001b[36m0.6354\u001b[0m        \u001b[32m0.5627\u001b[0m            \u001b[35m0.4132\u001b[0m        \u001b[31m1.5539\u001b[0m  0.0005  1.6832\n",
            "      6            \u001b[36m0.8056\u001b[0m        \u001b[32m0.4523\u001b[0m            \u001b[35m0.4688\u001b[0m        \u001b[31m1.1865\u001b[0m  0.0004  1.6787\n",
            "      7            \u001b[36m0.9444\u001b[0m        \u001b[32m0.4206\u001b[0m            \u001b[35m0.5486\u001b[0m        \u001b[31m0.9679\u001b[0m  0.0004  1.6731\n",
            "      8            \u001b[36m0.9757\u001b[0m        \u001b[32m0.3350\u001b[0m            \u001b[35m0.5694\u001b[0m        \u001b[31m0.8771\u001b[0m  0.0003  1.6959\n",
            "      9            \u001b[36m0.9965\u001b[0m        \u001b[32m0.3068\u001b[0m            \u001b[35m0.6146\u001b[0m        \u001b[31m0.8471\u001b[0m  0.0002  1.7023\n",
            "     10            0.9931        0.3116            0.6007        \u001b[31m0.8337\u001b[0m  0.0002  1.6833\n",
            "     11            0.9931        \u001b[32m0.2832\u001b[0m            0.6007        \u001b[31m0.8266\u001b[0m  0.0001  1.6737\n",
            "     12            0.9931        \u001b[32m0.2695\u001b[0m            0.5903        \u001b[31m0.8235\u001b[0m  0.0001  1.6719\n",
            "     13            0.9931        0.2868            0.5972        \u001b[31m0.8228\u001b[0m  0.0000  1.6743\n",
            "     14            0.9931        0.2789            0.5938        \u001b[31m0.8222\u001b[0m  0.0000  1.6687\n",
            "     15            0.9931        \u001b[32m0.2437\u001b[0m            0.5972        \u001b[31m0.8221\u001b[0m  0.0000  1.6715\n",
            "   Model for train subject 3\n",
            "   Model for train subject 5\n",
            "  epoch    train_accuracy    train_loss    valid_accuracy    valid_loss      lr     dur\n",
            "-------  ----------------  ------------  ----------------  ------------  ------  ------\n",
            "      1            \u001b[36m0.2882\u001b[0m        \u001b[32m1.6334\u001b[0m            \u001b[35m0.2812\u001b[0m        \u001b[31m4.0799\u001b[0m  0.0006  1.6716\n",
            "      2            0.2500        \u001b[32m1.1164\u001b[0m            0.2535        4.7041  0.0006  1.6780\n",
            "      3            0.2535        \u001b[32m0.9182\u001b[0m            0.2500        \u001b[31m3.0339\u001b[0m  0.0006  1.7005\n",
            "      4            \u001b[36m0.5521\u001b[0m        \u001b[32m0.6740\u001b[0m            \u001b[35m0.3299\u001b[0m        \u001b[31m1.6434\u001b[0m  0.0006  1.6809\n",
            "      5            \u001b[36m0.7639\u001b[0m        \u001b[32m0.5872\u001b[0m            \u001b[35m0.4375\u001b[0m        \u001b[31m1.2299\u001b[0m  0.0005  1.6848\n",
            "      6            \u001b[36m0.8785\u001b[0m        \u001b[32m0.4860\u001b[0m            \u001b[35m0.5278\u001b[0m        \u001b[31m1.0380\u001b[0m  0.0004  1.6791\n",
            "      7            \u001b[36m0.9444\u001b[0m        \u001b[32m0.4159\u001b[0m            \u001b[35m0.5660\u001b[0m        \u001b[31m0.9173\u001b[0m  0.0004  1.6774\n",
            "      8            \u001b[36m0.9722\u001b[0m        \u001b[32m0.3664\u001b[0m            \u001b[35m0.5903\u001b[0m        \u001b[31m0.8641\u001b[0m  0.0003  1.6870\n",
            "      9            \u001b[36m0.9826\u001b[0m        \u001b[32m0.3264\u001b[0m            \u001b[35m0.6076\u001b[0m        \u001b[31m0.8400\u001b[0m  0.0002  1.6750\n",
            "     10            \u001b[36m0.9896\u001b[0m        \u001b[32m0.3179\u001b[0m            0.6042        \u001b[31m0.8305\u001b[0m  0.0002  1.6740\n",
            "     11            \u001b[36m0.9965\u001b[0m        \u001b[32m0.3077\u001b[0m            0.6007        \u001b[31m0.8233\u001b[0m  0.0001  1.6734\n",
            "     12            0.9965        \u001b[32m0.2571\u001b[0m            0.6076        \u001b[31m0.8201\u001b[0m  0.0001  1.6890\n",
            "     13            0.9965        0.2754            \u001b[35m0.6111\u001b[0m        \u001b[31m0.8187\u001b[0m  0.0000  1.6817\n",
            "     14            0.9965        0.2901            0.6042        0.8188  0.0000  1.6817\n",
            "     15            0.9965        0.2995            0.6042        0.8187  0.0000  1.6825\n",
            "Test subject: 5\n",
            "   Model for train subject 1\n",
            "  epoch    train_accuracy    train_loss    valid_accuracy    valid_loss      lr     dur\n",
            "-------  ----------------  ------------  ----------------  ------------  ------  ------\n",
            "      1            \u001b[36m0.2743\u001b[0m        \u001b[32m1.6460\u001b[0m            \u001b[35m0.2535\u001b[0m        \u001b[31m3.6930\u001b[0m  0.0006  1.6741\n",
            "   Model for train subject 2\n",
            "   Model for train subject 3\n",
            "  epoch    train_accuracy    train_loss    valid_accuracy    valid_loss      lr     dur\n",
            "-------  ----------------  ------------  ----------------  ------------  ------  ------\n",
            "      1            \u001b[36m0.2847\u001b[0m        \u001b[32m1.6492\u001b[0m            \u001b[35m0.2604\u001b[0m        \u001b[31m3.2731\u001b[0m  0.0006  1.6811\n",
            "      2            \u001b[36m0.5729\u001b[0m        \u001b[32m1.1398\u001b[0m            \u001b[35m0.3056\u001b[0m        3.3662  0.0006  1.6832\n",
            "      3            \u001b[36m0.6111\u001b[0m        \u001b[32m0.9180\u001b[0m            \u001b[35m0.3542\u001b[0m        \u001b[31m2.7266\u001b[0m  0.0006  1.6797\n",
            "      4            0.4965        \u001b[32m0.7144\u001b[0m            0.3160        \u001b[31m2.1717\u001b[0m  0.0006  1.6791\n",
            "      5            \u001b[36m0.6944\u001b[0m        \u001b[32m0.5122\u001b[0m            \u001b[35m0.3958\u001b[0m        \u001b[31m1.4547\u001b[0m  0.0005  1.6869\n",
            "      6            \u001b[36m0.8542\u001b[0m        \u001b[32m0.4331\u001b[0m            \u001b[35m0.4583\u001b[0m        \u001b[31m1.1326\u001b[0m  0.0004  1.6853\n",
            "      7            \u001b[36m0.9306\u001b[0m        \u001b[32m0.3628\u001b[0m            \u001b[35m0.5451\u001b[0m        \u001b[31m0.9830\u001b[0m  0.0004  1.6795\n",
            "      8            \u001b[36m0.9688\u001b[0m        0.3637            \u001b[35m0.5729\u001b[0m        \u001b[31m0.9018\u001b[0m  0.0003  1.6783\n",
            "      9            \u001b[36m0.9826\u001b[0m        \u001b[32m0.3312\u001b[0m            \u001b[35m0.5868\u001b[0m        \u001b[31m0.8602\u001b[0m  0.0002  1.6848\n",
            "     10            \u001b[36m0.9861\u001b[0m        \u001b[32m0.3007\u001b[0m            \u001b[35m0.6042\u001b[0m        \u001b[31m0.8360\u001b[0m  0.0002  1.6839\n",
            "     11            \u001b[36m0.9931\u001b[0m        \u001b[32m0.2749\u001b[0m            0.6007        \u001b[31m0.8218\u001b[0m  0.0001  1.6843\n",
            "     12            0.9931        0.2811            \u001b[35m0.6076\u001b[0m        \u001b[31m0.8171\u001b[0m  0.0001  1.6813\n",
            "     13            0.9931        \u001b[32m0.2682\u001b[0m            0.6076        \u001b[31m0.8155\u001b[0m  0.0000  1.6805\n",
            "     14            0.9931        \u001b[32m0.2666\u001b[0m            \u001b[35m0.6146\u001b[0m        \u001b[31m0.8154\u001b[0m  0.0000  1.6841\n",
            "     15            0.9931        0.2719            \u001b[35m0.6181\u001b[0m        0.8160  0.0000  1.6803\n",
            "   Model for train subject 4\n",
            "  epoch    train_accuracy    train_loss    valid_accuracy    valid_loss      lr     dur\n",
            "-------  ----------------  ------------  ----------------  ------------  ------  ------\n",
            "      1            \u001b[36m0.2917\u001b[0m        \u001b[32m1.6154\u001b[0m            \u001b[35m0.2500\u001b[0m        \u001b[31m3.4795\u001b[0m  0.0006  1.6799\n",
            "      2            0.2743        \u001b[32m1.2365\u001b[0m            \u001b[35m0.2535\u001b[0m        4.2326  0.0006  1.6849\n",
            "      3            0.2535        \u001b[32m0.8937\u001b[0m            0.2500        3.8739  0.0006  1.6832\n",
            "      4            \u001b[36m0.5069\u001b[0m        \u001b[32m0.6799\u001b[0m            \u001b[35m0.3576\u001b[0m        \u001b[31m2.0356\u001b[0m  0.0006  1.6830\n",
            "      5            \u001b[36m0.7014\u001b[0m        \u001b[32m0.5786\u001b[0m            \u001b[35m0.4826\u001b[0m        \u001b[31m1.4123\u001b[0m  0.0005  1.6795\n",
            "      6            \u001b[36m0.8646\u001b[0m        \u001b[32m0.4413\u001b[0m            \u001b[35m0.5278\u001b[0m        \u001b[31m1.0941\u001b[0m  0.0004  1.6871\n",
            "      7            \u001b[36m0.9514\u001b[0m        \u001b[32m0.3816\u001b[0m            \u001b[35m0.5660\u001b[0m        \u001b[31m0.9388\u001b[0m  0.0004  1.6784\n",
            "      8            \u001b[36m0.9896\u001b[0m        \u001b[32m0.3495\u001b[0m            \u001b[35m0.6146\u001b[0m        \u001b[31m0.8482\u001b[0m  0.0003  1.6751\n",
            "      9            \u001b[36m0.9931\u001b[0m        \u001b[32m0.3224\u001b[0m            0.6146        \u001b[31m0.8242\u001b[0m  0.0002  1.6749\n",
            "     10            0.9896        \u001b[32m0.3003\u001b[0m            0.6111        \u001b[31m0.8154\u001b[0m  0.0002  1.6849\n",
            "     11            0.9931        \u001b[32m0.2963\u001b[0m            0.6111        \u001b[31m0.8089\u001b[0m  0.0001  1.6746\n",
            "     12            \u001b[36m0.9965\u001b[0m        \u001b[32m0.2796\u001b[0m            \u001b[35m0.6181\u001b[0m        \u001b[31m0.8059\u001b[0m  0.0001  1.6719\n",
            "     13            \u001b[36m1.0000\u001b[0m        0.2856            \u001b[35m0.6215\u001b[0m        \u001b[31m0.8051\u001b[0m  0.0000  1.6735\n",
            "     14            1.0000        \u001b[32m0.2452\u001b[0m            0.6215        \u001b[31m0.8050\u001b[0m  0.0000  1.6803\n",
            "     15            1.0000        0.2996            0.6181        \u001b[31m0.8047\u001b[0m  0.0000  1.6707\n"
          ]
        }
      ]
    },
    {
      "cell_type": "code",
      "source": [
        "Part2_loo(model, Data_subjects_EA, device,val_subj=None)"
      ],
      "metadata": {
        "id": "1QUFFYnVbihE",
        "colab": {
          "base_uri": "https://localhost:8080/"
        },
        "outputId": "d0b265c7-b11f-4964-e9da-860d2b07ceee"
      },
      "execution_count": null,
      "outputs": [
        {
          "output_type": "stream",
          "name": "stdout",
          "text": [
            "Test subject: 1\n",
            "   Model for train subject 2\n",
            "  epoch    train_accuracy    train_loss    valid_accuracy    valid_loss      lr     dur\n",
            "-------  ----------------  ------------  ----------------  ------------  ------  ------\n",
            "      1            \u001b[36m0.3194\u001b[0m        \u001b[32m1.6145\u001b[0m            \u001b[35m0.2778\u001b[0m        \u001b[31m3.7209\u001b[0m  0.0006  1.6918\n",
            "      2            0.2500        \u001b[32m1.2270\u001b[0m            0.2535        4.3514  0.0006  1.6542\n",
            "      3            0.2639        \u001b[32m0.9100\u001b[0m            0.2639        \u001b[31m2.8348\u001b[0m  0.0006  1.6682\n",
            "      4            \u001b[36m0.6181\u001b[0m        \u001b[32m0.7151\u001b[0m            \u001b[35m0.4062\u001b[0m        \u001b[31m1.5724\u001b[0m  0.0006  1.6843\n",
            "      5            \u001b[36m0.7118\u001b[0m        \u001b[32m0.6003\u001b[0m            \u001b[35m0.4514\u001b[0m        \u001b[31m1.2557\u001b[0m  0.0005  1.6976\n",
            "      6            \u001b[36m0.8646\u001b[0m        \u001b[32m0.4343\u001b[0m            \u001b[35m0.5312\u001b[0m        \u001b[31m1.0523\u001b[0m  0.0004  1.7023\n",
            "      7            \u001b[36m0.9444\u001b[0m        \u001b[32m0.3895\u001b[0m            \u001b[35m0.5903\u001b[0m        \u001b[31m0.9124\u001b[0m  0.0004  1.7342\n",
            "      8            \u001b[36m0.9792\u001b[0m        \u001b[32m0.3460\u001b[0m            \u001b[35m0.6076\u001b[0m        \u001b[31m0.8450\u001b[0m  0.0003  1.7359\n",
            "      9            \u001b[36m0.9826\u001b[0m        0.3503            0.5972        \u001b[31m0.8163\u001b[0m  0.0002  1.7537\n",
            "     10            \u001b[36m0.9931\u001b[0m        \u001b[32m0.2866\u001b[0m            \u001b[35m0.6146\u001b[0m        \u001b[31m0.8031\u001b[0m  0.0002  1.7497\n",
            "     11            0.9931        0.3129            \u001b[35m0.6285\u001b[0m        \u001b[31m0.7981\u001b[0m  0.0001  1.7651\n",
            "     12            0.9931        \u001b[32m0.2582\u001b[0m            0.6215        \u001b[31m0.7960\u001b[0m  0.0001  1.7735\n",
            "     13            0.9931        \u001b[32m0.2507\u001b[0m            0.6250        \u001b[31m0.7952\u001b[0m  0.0000  1.7608\n",
            "     14            0.9931        0.2705            0.6250        0.7957  0.0000  1.7486\n",
            "     15            0.9931        0.2953            0.6181        0.7961  0.0000  1.7418\n",
            "   Model for train subject 3\n",
            "  epoch    train_accuracy    train_loss    valid_accuracy    valid_loss      lr     dur\n",
            "-------  ----------------  ------------  ----------------  ------------  ------  ------\n",
            "      1            \u001b[36m0.3125\u001b[0m        \u001b[32m1.7208\u001b[0m            \u001b[35m0.2778\u001b[0m        \u001b[31m3.4977\u001b[0m  0.0006  1.7507\n",
            "      2            0.2882        \u001b[32m1.1857\u001b[0m            0.2639        \u001b[31m2.9852\u001b[0m  0.0006  1.7445\n",
            "      3            \u001b[36m0.3819\u001b[0m        \u001b[32m0.8952\u001b[0m            \u001b[35m0.3090\u001b[0m        \u001b[31m2.5142\u001b[0m  0.0006  1.7226\n",
            "      4            0.3472        \u001b[32m0.6853\u001b[0m            0.2986        \u001b[31m2.3149\u001b[0m  0.0006  1.7124\n",
            "      5            \u001b[36m0.4757\u001b[0m        \u001b[32m0.5364\u001b[0m            \u001b[35m0.3333\u001b[0m        \u001b[31m1.7535\u001b[0m  0.0005  1.7079\n",
            "      6            \u001b[36m0.8472\u001b[0m        \u001b[32m0.4841\u001b[0m            \u001b[35m0.4757\u001b[0m        \u001b[31m1.1270\u001b[0m  0.0004  1.6969\n",
            "      7            \u001b[36m0.9688\u001b[0m        \u001b[32m0.4405\u001b[0m            \u001b[35m0.5625\u001b[0m        \u001b[31m0.9274\u001b[0m  0.0004  1.6919\n",
            "      8            \u001b[36m0.9861\u001b[0m        \u001b[32m0.3657\u001b[0m            0.5590        \u001b[31m0.8756\u001b[0m  0.0003  1.6842\n",
            "      9            0.9861        \u001b[32m0.3326\u001b[0m            \u001b[35m0.5799\u001b[0m        \u001b[31m0.8538\u001b[0m  0.0002  1.6803\n",
            "     10            0.9861        \u001b[32m0.3025\u001b[0m            \u001b[35m0.5972\u001b[0m        \u001b[31m0.8422\u001b[0m  0.0002  1.6817\n",
            "     11            \u001b[36m0.9896\u001b[0m        \u001b[32m0.2868\u001b[0m            0.5938        \u001b[31m0.8340\u001b[0m  0.0001  1.6796\n",
            "     12            0.9896        0.2871            0.5938        \u001b[31m0.8300\u001b[0m  0.0001  1.6760\n",
            "     13            0.9896        \u001b[32m0.2617\u001b[0m            0.5903        \u001b[31m0.8283\u001b[0m  0.0000  1.6693\n",
            "     14            0.9896        \u001b[32m0.2330\u001b[0m            0.5868        0.8286  0.0000  1.6712\n",
            "     15            0.9896        0.2492            0.5868        0.8288  0.0000  1.6694\n",
            "   Model for train subject 4\n",
            "  epoch    train_accuracy    train_loss    valid_accuracy    valid_loss      lr     dur\n",
            "-------  ----------------  ------------  ----------------  ------------  ------  ------\n",
            "      1            \u001b[36m0.2882\u001b[0m        \u001b[32m1.7047\u001b[0m            \u001b[35m0.2569\u001b[0m        \u001b[31m3.3206\u001b[0m  0.0006  1.6590\n",
            "      2            \u001b[36m0.5000\u001b[0m        \u001b[32m1.1725\u001b[0m            \u001b[35m0.3819\u001b[0m        \u001b[31m3.0816\u001b[0m  0.0006  1.6688\n",
            "      3            0.4132        \u001b[32m0.8719\u001b[0m            0.2986        \u001b[31m2.6440\u001b[0m  0.0006  1.6622\n",
            "      4            0.3056        \u001b[32m0.6481\u001b[0m            0.2604        \u001b[31m2.3631\u001b[0m  0.0006  1.6669\n",
            "      5            \u001b[36m0.5486\u001b[0m        \u001b[32m0.5599\u001b[0m            0.3611        \u001b[31m1.5754\u001b[0m  0.0005  1.6796\n",
            "      6            \u001b[36m0.8715\u001b[0m        \u001b[32m0.4842\u001b[0m            \u001b[35m0.4965\u001b[0m        \u001b[31m1.0833\u001b[0m  0.0004  1.6741\n",
            "      7            \u001b[36m0.9757\u001b[0m        \u001b[32m0.3596\u001b[0m            \u001b[35m0.5729\u001b[0m        \u001b[31m0.9218\u001b[0m  0.0004  1.6725\n",
            "      8            \u001b[36m0.9931\u001b[0m        \u001b[32m0.3367\u001b[0m            \u001b[35m0.5799\u001b[0m        \u001b[31m0.8631\u001b[0m  0.0003  1.6826\n",
            "      9            \u001b[36m0.9965\u001b[0m        \u001b[32m0.3043\u001b[0m            \u001b[35m0.6042\u001b[0m        \u001b[31m0.8393\u001b[0m  0.0002  1.6830\n",
            "     10            0.9965        \u001b[32m0.2864\u001b[0m            \u001b[35m0.6076\u001b[0m        \u001b[31m0.8254\u001b[0m  0.0002  1.6845\n",
            "     11            0.9965        \u001b[32m0.2641\u001b[0m            0.6007        \u001b[31m0.8172\u001b[0m  0.0001  1.6886\n",
            "     12            0.9965        0.2953            0.6042        \u001b[31m0.8135\u001b[0m  0.0001  1.6880\n",
            "     13            0.9965        \u001b[32m0.2628\u001b[0m            0.6042        \u001b[31m0.8115\u001b[0m  0.0000  1.6850\n",
            "     14            0.9965        0.2890            0.6076        \u001b[31m0.8109\u001b[0m  0.0000  1.6935\n",
            "     15            0.9965        0.2766            0.6076        0.8116  0.0000  1.7064\n",
            "   Model for train subject 5\n",
            "  epoch    train_accuracy    train_loss    valid_accuracy    valid_loss      lr     dur\n",
            "-------  ----------------  ------------  ----------------  ------------  ------  ------\n",
            "      1            \u001b[36m0.2535\u001b[0m        \u001b[32m1.6191\u001b[0m            \u001b[35m0.2535\u001b[0m        \u001b[31m4.3120\u001b[0m  0.0006  1.6879\n",
            "      2            \u001b[36m0.2882\u001b[0m        \u001b[32m1.1867\u001b[0m            0.2535        \u001b[31m3.9738\u001b[0m  0.0006  1.7047\n",
            "      3            0.2708        \u001b[32m0.8749\u001b[0m            \u001b[35m0.2569\u001b[0m        \u001b[31m3.0188\u001b[0m  0.0006  1.7002\n",
            "      4            \u001b[36m0.4653\u001b[0m        \u001b[32m0.6989\u001b[0m            \u001b[35m0.3264\u001b[0m        \u001b[31m2.1691\u001b[0m  0.0006  1.7043\n",
            "      5            \u001b[36m0.6701\u001b[0m        \u001b[32m0.5362\u001b[0m            \u001b[35m0.3924\u001b[0m        \u001b[31m1.4950\u001b[0m  0.0005  1.7120\n",
            "      6            \u001b[36m0.8819\u001b[0m        \u001b[32m0.4700\u001b[0m            \u001b[35m0.4931\u001b[0m        \u001b[31m1.1150\u001b[0m  0.0004  1.7078\n",
            "      7            \u001b[36m0.9722\u001b[0m        \u001b[32m0.4119\u001b[0m            \u001b[35m0.5278\u001b[0m        \u001b[31m0.9435\u001b[0m  0.0004  1.7066\n",
            "      8            \u001b[36m0.9861\u001b[0m        \u001b[32m0.3395\u001b[0m            \u001b[35m0.5764\u001b[0m        \u001b[31m0.8823\u001b[0m  0.0003  1.7013\n",
            "      9            0.9861        \u001b[32m0.3254\u001b[0m            \u001b[35m0.5903\u001b[0m        \u001b[31m0.8569\u001b[0m  0.0002  1.7004\n",
            "     10            \u001b[36m0.9896\u001b[0m        \u001b[32m0.2886\u001b[0m            0.5729        \u001b[31m0.8346\u001b[0m  0.0002  1.7042\n",
            "     11            \u001b[36m0.9931\u001b[0m        0.2889            0.5729        \u001b[31m0.8256\u001b[0m  0.0001  1.6955\n",
            "     12            0.9931        0.3189            \u001b[35m0.5938\u001b[0m        \u001b[31m0.8199\u001b[0m  0.0001  1.6968\n",
            "     13            0.9931        \u001b[32m0.2689\u001b[0m            0.5938        \u001b[31m0.8177\u001b[0m  0.0000  1.6920\n",
            "     14            0.9931        0.2807            0.5903        \u001b[31m0.8176\u001b[0m  0.0000  1.6850\n",
            "     15            0.9931        0.3046            0.5833        0.8183  0.0000  1.6921\n",
            "Test subject: 2\n",
            "   Model for train subject 1\n",
            "  epoch    train_accuracy    train_loss    valid_accuracy    valid_loss      lr     dur\n",
            "-------  ----------------  ------------  ----------------  ------------  ------  ------\n",
            "      1            \u001b[36m0.2847\u001b[0m        \u001b[32m1.6205\u001b[0m            \u001b[35m0.2639\u001b[0m        \u001b[31m3.5161\u001b[0m  0.0006  1.6826\n",
            "      2            0.2500        \u001b[32m1.1997\u001b[0m            0.2500        5.5214  0.0006  1.6766\n",
            "      3            0.2500        \u001b[32m0.9095\u001b[0m            0.2500        4.0926  0.0006  1.6744\n",
            "      4            \u001b[36m0.5174\u001b[0m        \u001b[32m0.7195\u001b[0m            \u001b[35m0.3889\u001b[0m        \u001b[31m2.0251\u001b[0m  0.0006  1.6968\n",
            "      5            \u001b[36m0.6632\u001b[0m        \u001b[32m0.5655\u001b[0m            \u001b[35m0.4410\u001b[0m        \u001b[31m1.4408\u001b[0m  0.0005  1.7013\n",
            "      6            \u001b[36m0.7951\u001b[0m        \u001b[32m0.4655\u001b[0m            \u001b[35m0.5035\u001b[0m        \u001b[31m1.1308\u001b[0m  0.0004  1.6871\n",
            "      7            \u001b[36m0.9306\u001b[0m        \u001b[32m0.3885\u001b[0m            \u001b[35m0.5451\u001b[0m        \u001b[31m0.9711\u001b[0m  0.0004  1.6794\n",
            "      8            \u001b[36m0.9826\u001b[0m        \u001b[32m0.3701\u001b[0m            \u001b[35m0.5590\u001b[0m        \u001b[31m0.8782\u001b[0m  0.0003  1.6745\n",
            "      9            \u001b[36m0.9896\u001b[0m        \u001b[32m0.3103\u001b[0m            \u001b[35m0.6146\u001b[0m        \u001b[31m0.8238\u001b[0m  0.0002  1.6788\n",
            "     10            0.9896        \u001b[32m0.3070\u001b[0m            \u001b[35m0.6250\u001b[0m        \u001b[31m0.8043\u001b[0m  0.0002  1.6850\n",
            "     11            0.9896        0.3429            0.6181        \u001b[31m0.7983\u001b[0m  0.0001  1.6892\n",
            "     12            \u001b[36m0.9931\u001b[0m        \u001b[32m0.2698\u001b[0m            0.6215        \u001b[31m0.7958\u001b[0m  0.0001  1.6824\n",
            "     13            0.9931        \u001b[32m0.2694\u001b[0m            0.6215        \u001b[31m0.7953\u001b[0m  0.0000  1.6876\n",
            "     14            0.9931        0.2863            0.6250        0.7956  0.0000  1.6923\n",
            "     15            0.9931        0.2725            0.6250        \u001b[31m0.7953\u001b[0m  0.0000  1.6916\n",
            "   Model for train subject 3\n",
            "  epoch    train_accuracy    train_loss    valid_accuracy    valid_loss      lr     dur\n",
            "-------  ----------------  ------------  ----------------  ------------  ------  ------\n",
            "      1            \u001b[36m0.2500\u001b[0m        \u001b[32m1.6393\u001b[0m            \u001b[35m0.2535\u001b[0m        \u001b[31m4.5122\u001b[0m  0.0006  1.6817\n",
            "      2            \u001b[36m0.2604\u001b[0m        \u001b[32m1.2033\u001b[0m            0.2500        \u001b[31m3.9480\u001b[0m  0.0006  1.6956\n",
            "      3            \u001b[36m0.2743\u001b[0m        \u001b[32m0.9126\u001b[0m            \u001b[35m0.2604\u001b[0m        \u001b[31m3.3809\u001b[0m  0.0006  1.7028\n",
            "      4            \u001b[36m0.4201\u001b[0m        \u001b[32m0.6833\u001b[0m            \u001b[35m0.3299\u001b[0m        \u001b[31m2.3047\u001b[0m  0.0006  1.6949\n",
            "      5            \u001b[36m0.5451\u001b[0m        \u001b[32m0.5120\u001b[0m            \u001b[35m0.3715\u001b[0m        \u001b[31m1.5659\u001b[0m  0.0005  1.7007\n",
            "      6            \u001b[36m0.8403\u001b[0m        \u001b[32m0.4571\u001b[0m            \u001b[35m0.4792\u001b[0m        \u001b[31m1.0837\u001b[0m  0.0004  1.7016\n",
            "      7            \u001b[36m0.9722\u001b[0m        \u001b[32m0.4316\u001b[0m            \u001b[35m0.6007\u001b[0m        \u001b[31m0.8766\u001b[0m  0.0004  1.7009\n",
            "      8            \u001b[36m0.9792\u001b[0m        \u001b[32m0.3690\u001b[0m            \u001b[35m0.6146\u001b[0m        \u001b[31m0.8130\u001b[0m  0.0003  1.6973\n",
            "      9            \u001b[36m0.9861\u001b[0m        \u001b[32m0.3385\u001b[0m            \u001b[35m0.6250\u001b[0m        \u001b[31m0.7915\u001b[0m  0.0002  1.6926\n",
            "     10            \u001b[36m0.9896\u001b[0m        \u001b[32m0.3024\u001b[0m            \u001b[35m0.6354\u001b[0m        \u001b[31m0.7788\u001b[0m  0.0002  1.7003\n",
            "     11            \u001b[36m0.9931\u001b[0m        \u001b[32m0.2493\u001b[0m            0.6354        \u001b[31m0.7737\u001b[0m  0.0001  1.7001\n",
            "     12            0.9931        0.2580            \u001b[35m0.6424\u001b[0m        \u001b[31m0.7709\u001b[0m  0.0001  1.6975\n",
            "     13            0.9931        0.2908            0.6354        \u001b[31m0.7695\u001b[0m  0.0000  1.6992\n",
            "     14            0.9931        0.2670            0.6354        \u001b[31m0.7693\u001b[0m  0.0000  1.6967\n",
            "     15            0.9931        0.2607            0.6319        0.7694  0.0000  1.6982\n",
            "   Model for train subject 4\n",
            "  epoch    train_accuracy    train_loss    valid_accuracy    valid_loss      lr     dur\n",
            "-------  ----------------  ------------  ----------------  ------------  ------  ------\n",
            "      1            \u001b[36m0.2569\u001b[0m        \u001b[32m1.6011\u001b[0m            \u001b[35m0.2535\u001b[0m        \u001b[31m3.7377\u001b[0m  0.0006  1.6952\n",
            "      2            0.2535        \u001b[32m1.2237\u001b[0m            0.2535        \u001b[31m3.5471\u001b[0m  0.0006  1.6995\n",
            "      3            \u001b[36m0.3681\u001b[0m        \u001b[32m0.8466\u001b[0m            \u001b[35m0.2986\u001b[0m        \u001b[31m2.5543\u001b[0m  0.0006  1.7028\n",
            "      4            \u001b[36m0.6007\u001b[0m        \u001b[32m0.6893\u001b[0m            \u001b[35m0.3681\u001b[0m        \u001b[31m1.8790\u001b[0m  0.0006  1.6896\n",
            "      5            \u001b[36m0.6076\u001b[0m        \u001b[32m0.5619\u001b[0m            \u001b[35m0.3819\u001b[0m        \u001b[31m1.4981\u001b[0m  0.0005  1.6933\n",
            "      6            \u001b[36m0.8299\u001b[0m        \u001b[32m0.4835\u001b[0m            \u001b[35m0.4965\u001b[0m        \u001b[31m1.0993\u001b[0m  0.0004  1.6914\n",
            "      7            \u001b[36m0.9410\u001b[0m        \u001b[32m0.4088\u001b[0m            \u001b[35m0.5729\u001b[0m        \u001b[31m0.9176\u001b[0m  0.0004  1.6930\n",
            "      8            \u001b[36m0.9861\u001b[0m        \u001b[32m0.3450\u001b[0m            \u001b[35m0.6042\u001b[0m        \u001b[31m0.8510\u001b[0m  0.0003  1.6936\n",
            "      9            \u001b[36m0.9896\u001b[0m        \u001b[32m0.3139\u001b[0m            \u001b[35m0.6250\u001b[0m        \u001b[31m0.8207\u001b[0m  0.0002  1.6828\n",
            "     10            0.9896        0.3148            0.6215        \u001b[31m0.8068\u001b[0m  0.0002  1.6762\n",
            "     11            \u001b[36m1.0000\u001b[0m        \u001b[32m0.2631\u001b[0m            0.6215        \u001b[31m0.8021\u001b[0m  0.0001  1.6837\n",
            "     12            1.0000        0.2927            \u001b[35m0.6285\u001b[0m        \u001b[31m0.7994\u001b[0m  0.0001  1.6906\n",
            "     13            1.0000        0.2664            \u001b[35m0.6319\u001b[0m        \u001b[31m0.7988\u001b[0m  0.0000  1.6924\n",
            "     14            1.0000        0.2676            0.6250        \u001b[31m0.7986\u001b[0m  0.0000  1.6883\n",
            "     15            1.0000        \u001b[32m0.2475\u001b[0m            0.6250        0.7986  0.0000  1.6891\n",
            "   Model for train subject 5\n",
            "  epoch    train_accuracy    train_loss    valid_accuracy    valid_loss      lr     dur\n",
            "-------  ----------------  ------------  ----------------  ------------  ------  ------\n",
            "      1            \u001b[36m0.2882\u001b[0m        \u001b[32m1.6521\u001b[0m            \u001b[35m0.2639\u001b[0m        \u001b[31m3.9113\u001b[0m  0.0006  1.6855\n",
            "      2            0.2535        \u001b[32m1.1394\u001b[0m            0.2535        \u001b[31m3.7888\u001b[0m  0.0006  1.6888\n",
            "      3            \u001b[36m0.4826\u001b[0m        \u001b[32m0.8606\u001b[0m            \u001b[35m0.3333\u001b[0m        \u001b[31m2.0667\u001b[0m  0.0006  1.6865\n",
            "      4            \u001b[36m0.5625\u001b[0m        \u001b[32m0.7357\u001b[0m            \u001b[35m0.3958\u001b[0m        \u001b[31m1.6718\u001b[0m  0.0006  1.6907\n",
            "      5            \u001b[36m0.6354\u001b[0m        \u001b[32m0.5697\u001b[0m            \u001b[35m0.4201\u001b[0m        \u001b[31m1.4072\u001b[0m  0.0005  1.6803\n",
            "      6            \u001b[36m0.8299\u001b[0m        \u001b[32m0.5095\u001b[0m            \u001b[35m0.5000\u001b[0m        \u001b[31m1.0979\u001b[0m  0.0004  1.6797\n",
            "      7            \u001b[36m0.9514\u001b[0m        \u001b[32m0.3830\u001b[0m            \u001b[35m0.5417\u001b[0m        \u001b[31m0.9407\u001b[0m  0.0004  1.6864\n",
            "      8            \u001b[36m0.9896\u001b[0m        \u001b[32m0.3312\u001b[0m            \u001b[35m0.5903\u001b[0m        \u001b[31m0.8775\u001b[0m  0.0003  1.6820\n",
            "      9            \u001b[36m0.9931\u001b[0m        \u001b[32m0.3241\u001b[0m            \u001b[35m0.6076\u001b[0m        \u001b[31m0.8527\u001b[0m  0.0002  1.6841\n",
            "     10            0.9931        0.3357            0.6007        \u001b[31m0.8388\u001b[0m  0.0002  1.6840\n",
            "     11            0.9931        \u001b[32m0.2842\u001b[0m            0.6007        \u001b[31m0.8319\u001b[0m  0.0001  1.6844\n",
            "     12            0.9931        \u001b[32m0.2778\u001b[0m            0.6076        \u001b[31m0.8289\u001b[0m  0.0001  1.6881\n",
            "     13            0.9931        0.2840            0.6042        \u001b[31m0.8275\u001b[0m  0.0000  1.6876\n",
            "     14            0.9931        0.2851            0.6042        \u001b[31m0.8272\u001b[0m  0.0000  1.6816\n",
            "     15            0.9931        0.2976            0.6042        0.8275  0.0000  1.6915\n",
            "Test subject: 3\n",
            "   Model for train subject 1\n",
            "  epoch    train_accuracy    train_loss    valid_accuracy    valid_loss      lr     dur\n",
            "-------  ----------------  ------------  ----------------  ------------  ------  ------\n",
            "      1            \u001b[36m0.4201\u001b[0m        \u001b[32m1.5865\u001b[0m            \u001b[35m0.3125\u001b[0m        \u001b[31m3.2301\u001b[0m  0.0006  1.6870\n",
            "      2            0.2535        \u001b[32m1.1512\u001b[0m            0.2535        3.3278  0.0006  1.6907\n",
            "      3            0.2882        \u001b[32m0.8890\u001b[0m            0.2743        \u001b[31m2.7104\u001b[0m  0.0006  1.6889\n",
            "      4            \u001b[36m0.4896\u001b[0m        \u001b[32m0.6981\u001b[0m            \u001b[35m0.3333\u001b[0m        \u001b[31m1.9036\u001b[0m  0.0006  1.6903\n",
            "      5            \u001b[36m0.7222\u001b[0m        \u001b[32m0.5627\u001b[0m            \u001b[35m0.4896\u001b[0m        \u001b[31m1.3149\u001b[0m  0.0005  1.6865\n",
            "      6            \u001b[36m0.8854\u001b[0m        \u001b[32m0.4715\u001b[0m            \u001b[35m0.5278\u001b[0m        \u001b[31m1.0217\u001b[0m  0.0004  1.6979\n",
            "      7            \u001b[36m0.9549\u001b[0m        \u001b[32m0.4246\u001b[0m            \u001b[35m0.5451\u001b[0m        \u001b[31m0.8995\u001b[0m  0.0004  1.6909\n",
            "      8            \u001b[36m0.9792\u001b[0m        \u001b[32m0.3612\u001b[0m            \u001b[35m0.5903\u001b[0m        \u001b[31m0.8525\u001b[0m  0.0003  1.6918\n",
            "      9            \u001b[36m0.9896\u001b[0m        \u001b[32m0.3292\u001b[0m            0.5903        \u001b[31m0.8197\u001b[0m  0.0002  1.6882\n",
            "     10            \u001b[36m0.9965\u001b[0m        \u001b[32m0.3049\u001b[0m            \u001b[35m0.5972\u001b[0m        \u001b[31m0.7964\u001b[0m  0.0002  1.6868\n",
            "     11            0.9965        \u001b[32m0.2764\u001b[0m            \u001b[35m0.6111\u001b[0m        \u001b[31m0.7845\u001b[0m  0.0001  1.6859\n",
            "     12            0.9965        \u001b[32m0.2727\u001b[0m            0.6111        \u001b[31m0.7804\u001b[0m  0.0001  1.6894\n",
            "     13            0.9965        \u001b[32m0.2383\u001b[0m            0.6111        0.7805  0.0000  1.6877\n",
            "     14            0.9965        0.2516            \u001b[35m0.6181\u001b[0m        0.7806  0.0000  1.6815\n",
            "     15            0.9965        0.2783            0.6181        0.7815  0.0000  1.6911\n",
            "   Model for train subject 2\n",
            "  epoch    train_accuracy    train_loss    valid_accuracy    valid_loss      lr     dur\n",
            "-------  ----------------  ------------  ----------------  ------------  ------  ------\n",
            "      1            \u001b[36m0.2500\u001b[0m        \u001b[32m1.6329\u001b[0m            \u001b[35m0.2535\u001b[0m        \u001b[31m4.0613\u001b[0m  0.0006  1.7094\n",
            "      2            \u001b[36m0.4375\u001b[0m        \u001b[32m1.2304\u001b[0m            \u001b[35m0.3264\u001b[0m        \u001b[31m3.1968\u001b[0m  0.0006  1.7222\n",
            "      3            0.3958        \u001b[32m0.9158\u001b[0m            0.2951        \u001b[31m2.8555\u001b[0m  0.0006  1.6930\n",
            "      4            0.3889        \u001b[32m0.6756\u001b[0m            0.2812        \u001b[31m2.0412\u001b[0m  0.0006  1.6922\n",
            "      5            \u001b[36m0.5556\u001b[0m        \u001b[32m0.5984\u001b[0m            \u001b[35m0.3438\u001b[0m        \u001b[31m1.5760\u001b[0m  0.0005  1.6858\n",
            "      6            \u001b[36m0.8611\u001b[0m        \u001b[32m0.4570\u001b[0m            \u001b[35m0.4722\u001b[0m        \u001b[31m1.1335\u001b[0m  0.0004  1.6937\n",
            "      7            \u001b[36m0.9653\u001b[0m        \u001b[32m0.4099\u001b[0m            \u001b[35m0.5590\u001b[0m        \u001b[31m0.9583\u001b[0m  0.0004  1.6865\n",
            "      8            \u001b[36m0.9861\u001b[0m        \u001b[32m0.3672\u001b[0m            \u001b[35m0.5903\u001b[0m        \u001b[31m0.8757\u001b[0m  0.0003  1.6906\n",
            "      9            \u001b[36m0.9931\u001b[0m        \u001b[32m0.3414\u001b[0m            \u001b[35m0.5972\u001b[0m        \u001b[31m0.8399\u001b[0m  0.0002  1.6848\n",
            "     10            0.9931        \u001b[32m0.3120\u001b[0m            \u001b[35m0.6042\u001b[0m        \u001b[31m0.8272\u001b[0m  0.0002  1.6815\n",
            "     11            \u001b[36m0.9965\u001b[0m        \u001b[32m0.2729\u001b[0m            0.6007        \u001b[31m0.8218\u001b[0m  0.0001  1.6867\n",
            "     12            \u001b[36m1.0000\u001b[0m        \u001b[32m0.2583\u001b[0m            \u001b[35m0.6076\u001b[0m        \u001b[31m0.8196\u001b[0m  0.0001  1.6935\n",
            "     13            1.0000        0.2800            0.6076        \u001b[31m0.8180\u001b[0m  0.0000  1.6851\n",
            "     14            1.0000        \u001b[32m0.2514\u001b[0m            0.6076        \u001b[31m0.8178\u001b[0m  0.0000  1.6876\n",
            "     15            1.0000        0.2548            \u001b[35m0.6111\u001b[0m        0.8188  0.0000  1.6910\n",
            "   Model for train subject 4\n",
            "  epoch    train_accuracy    train_loss    valid_accuracy    valid_loss      lr     dur\n",
            "-------  ----------------  ------------  ----------------  ------------  ------  ------\n",
            "      1            \u001b[36m0.3229\u001b[0m        \u001b[32m1.7191\u001b[0m            \u001b[35m0.2882\u001b[0m        \u001b[31m3.5311\u001b[0m  0.0006  1.6815\n",
            "      2            0.2569        \u001b[32m1.2080\u001b[0m            0.2569        \u001b[31m3.3828\u001b[0m  0.0006  1.6915\n",
            "      3            \u001b[36m0.4896\u001b[0m        \u001b[32m0.8257\u001b[0m            \u001b[35m0.3438\u001b[0m        \u001b[31m2.5751\u001b[0m  0.0006  1.6948\n",
            "      4            \u001b[36m0.5069\u001b[0m        \u001b[32m0.7100\u001b[0m            \u001b[35m0.3507\u001b[0m        \u001b[31m2.1034\u001b[0m  0.0006  1.6923\n",
            "      5            \u001b[36m0.5833\u001b[0m        \u001b[32m0.5482\u001b[0m            \u001b[35m0.3819\u001b[0m        \u001b[31m1.5470\u001b[0m  0.0005  1.6913\n",
            "      6            \u001b[36m0.7639\u001b[0m        \u001b[32m0.4384\u001b[0m            \u001b[35m0.4340\u001b[0m        \u001b[31m1.2066\u001b[0m  0.0004  1.6901\n",
            "      7            \u001b[36m0.9549\u001b[0m        \u001b[32m0.4118\u001b[0m            \u001b[35m0.5521\u001b[0m        \u001b[31m0.9542\u001b[0m  0.0004  1.6885\n",
            "      8            \u001b[36m0.9896\u001b[0m        \u001b[32m0.3476\u001b[0m            \u001b[35m0.5972\u001b[0m        \u001b[31m0.8454\u001b[0m  0.0003  1.6830\n",
            "      9            0.9896        \u001b[32m0.3352\u001b[0m            \u001b[35m0.6250\u001b[0m        \u001b[31m0.8132\u001b[0m  0.0002  1.6876\n",
            "     10            0.9896        \u001b[32m0.3060\u001b[0m            0.6076        \u001b[31m0.8033\u001b[0m  0.0002  1.6923\n",
            "     11            0.9896        \u001b[32m0.2783\u001b[0m            0.6146        \u001b[31m0.7994\u001b[0m  0.0001  1.6943\n",
            "     12            0.9896        \u001b[32m0.2448\u001b[0m            0.6181        \u001b[31m0.7973\u001b[0m  0.0001  1.6840\n",
            "     13            0.9896        0.2737            0.6146        \u001b[31m0.7970\u001b[0m  0.0000  1.6898\n",
            "     14            0.9896        0.2762            0.6215        0.7974  0.0000  1.6843\n",
            "     15            0.9896        0.2645            0.6215        0.7973  0.0000  1.6899\n",
            "   Model for train subject 5\n",
            "  epoch    train_accuracy    train_loss    valid_accuracy    valid_loss      lr     dur\n",
            "-------  ----------------  ------------  ----------------  ------------  ------  ------\n",
            "      1            \u001b[36m0.3507\u001b[0m        \u001b[32m1.6875\u001b[0m            \u001b[35m0.2778\u001b[0m        \u001b[31m3.5151\u001b[0m  0.0006  1.6821\n",
            "      2            \u001b[36m0.4618\u001b[0m        \u001b[32m1.1712\u001b[0m            \u001b[35m0.3299\u001b[0m        \u001b[31m3.4519\u001b[0m  0.0006  1.6956\n",
            "      3            0.2917        \u001b[32m0.8943\u001b[0m            0.2604        \u001b[31m2.8226\u001b[0m  0.0006  1.6955\n",
            "      4            0.3993        \u001b[32m0.6915\u001b[0m            0.3021        \u001b[31m1.9955\u001b[0m  0.0006  1.6972\n",
            "      5            \u001b[36m0.7465\u001b[0m        \u001b[32m0.5693\u001b[0m            \u001b[35m0.4549\u001b[0m        \u001b[31m1.3261\u001b[0m  0.0005  1.6944\n",
            "      6            \u001b[36m0.8438\u001b[0m        \u001b[32m0.4655\u001b[0m            \u001b[35m0.5000\u001b[0m        \u001b[31m1.1124\u001b[0m  0.0004  1.6919\n",
            "      7            \u001b[36m0.9132\u001b[0m        \u001b[32m0.3922\u001b[0m            \u001b[35m0.5382\u001b[0m        \u001b[31m0.9962\u001b[0m  0.0004  1.6935\n",
            "      8            \u001b[36m0.9792\u001b[0m        \u001b[32m0.3285\u001b[0m            \u001b[35m0.5833\u001b[0m        \u001b[31m0.8827\u001b[0m  0.0003  1.6887\n",
            "      9            \u001b[36m0.9896\u001b[0m        \u001b[32m0.2892\u001b[0m            \u001b[35m0.6319\u001b[0m        \u001b[31m0.8314\u001b[0m  0.0002  1.6859\n",
            "     10            0.9896        0.3245            \u001b[35m0.6424\u001b[0m        \u001b[31m0.8137\u001b[0m  0.0002  1.6967\n",
            "     11            0.9896        \u001b[32m0.2533\u001b[0m            0.6319        \u001b[31m0.8059\u001b[0m  0.0001  1.6950\n",
            "     12            \u001b[36m0.9931\u001b[0m        0.2579            0.6146        \u001b[31m0.8020\u001b[0m  0.0001  1.7005\n",
            "     13            0.9931        0.2921            0.6146        \u001b[31m0.8004\u001b[0m  0.0000  1.6906\n",
            "     14            0.9931        \u001b[32m0.2511\u001b[0m            0.6181        \u001b[31m0.8002\u001b[0m  0.0000  1.6969\n",
            "     15            0.9931        0.2544            0.6215        0.8004  0.0000  1.6946\n",
            "Test subject: 4\n",
            "   Model for train subject 1\n",
            "  epoch    train_accuracy    train_loss    valid_accuracy    valid_loss      lr     dur\n",
            "-------  ----------------  ------------  ----------------  ------------  ------  ------\n",
            "      1            \u001b[36m0.2535\u001b[0m        \u001b[32m1.6125\u001b[0m            \u001b[35m0.2535\u001b[0m        \u001b[31m4.4369\u001b[0m  0.0006  1.6913\n",
            "      2            0.2500        \u001b[32m1.1794\u001b[0m            0.2535        \u001b[31m4.3110\u001b[0m  0.0006  1.6910\n",
            "      3            \u001b[36m0.3021\u001b[0m        \u001b[32m0.9362\u001b[0m            \u001b[35m0.2708\u001b[0m        \u001b[31m2.9040\u001b[0m  0.0006  1.6926\n",
            "      4            \u001b[36m0.4757\u001b[0m        \u001b[32m0.6749\u001b[0m            \u001b[35m0.3403\u001b[0m        \u001b[31m2.0224\u001b[0m  0.0006  1.6935\n",
            "      5            \u001b[36m0.6979\u001b[0m        \u001b[32m0.5501\u001b[0m            \u001b[35m0.4097\u001b[0m        \u001b[31m1.4500\u001b[0m  0.0005  1.6958\n",
            "      6            \u001b[36m0.8403\u001b[0m        \u001b[32m0.4961\u001b[0m            \u001b[35m0.4826\u001b[0m        \u001b[31m1.1320\u001b[0m  0.0004  1.6924\n",
            "      7            \u001b[36m0.9479\u001b[0m        \u001b[32m0.4286\u001b[0m            \u001b[35m0.5556\u001b[0m        \u001b[31m0.9655\u001b[0m  0.0004  1.6889\n",
            "      8            \u001b[36m0.9792\u001b[0m        \u001b[32m0.3851\u001b[0m            \u001b[35m0.5729\u001b[0m        \u001b[31m0.8754\u001b[0m  0.0003  1.6885\n",
            "      9            \u001b[36m0.9931\u001b[0m        \u001b[32m0.2995\u001b[0m            \u001b[35m0.5938\u001b[0m        \u001b[31m0.8425\u001b[0m  0.0002  1.6933\n",
            "     10            0.9931        \u001b[32m0.2803\u001b[0m            0.5903        \u001b[31m0.8275\u001b[0m  0.0002  1.6904\n",
            "     11            \u001b[36m0.9965\u001b[0m        \u001b[32m0.2724\u001b[0m            0.5729        \u001b[31m0.8173\u001b[0m  0.0001  1.6864\n",
            "     12            0.9965        0.2943            0.5764        \u001b[31m0.8124\u001b[0m  0.0001  1.6843\n",
            "     13            0.9965        0.2798            0.5799        \u001b[31m0.8106\u001b[0m  0.0000  1.6770\n",
            "     14            0.9965        0.2771            0.5799        \u001b[31m0.8106\u001b[0m  0.0000  1.6856\n",
            "     15            0.9965        \u001b[32m0.2536\u001b[0m            0.5799        \u001b[31m0.8104\u001b[0m  0.0000  1.6852\n",
            "   Model for train subject 2\n",
            "  epoch    train_accuracy    train_loss    valid_accuracy    valid_loss      lr     dur\n",
            "-------  ----------------  ------------  ----------------  ------------  ------  ------\n",
            "      1            \u001b[36m0.2535\u001b[0m        \u001b[32m1.6821\u001b[0m            \u001b[35m0.2535\u001b[0m        \u001b[31m4.5533\u001b[0m  0.0006  1.6732\n",
            "      2            \u001b[36m0.2674\u001b[0m        \u001b[32m1.2054\u001b[0m            0.2500        \u001b[31m3.8851\u001b[0m  0.0006  1.6809\n",
            "      3            \u001b[36m0.3090\u001b[0m        \u001b[32m0.8432\u001b[0m            \u001b[35m0.2639\u001b[0m        \u001b[31m2.7070\u001b[0m  0.0006  1.6830\n",
            "      4            \u001b[36m0.4826\u001b[0m        \u001b[32m0.6913\u001b[0m            \u001b[35m0.3264\u001b[0m        \u001b[31m1.9896\u001b[0m  0.0006  1.6821\n",
            "      5            \u001b[36m0.5694\u001b[0m        \u001b[32m0.5811\u001b[0m            \u001b[35m0.3889\u001b[0m        \u001b[31m1.5606\u001b[0m  0.0005  1.6798\n",
            "      6            \u001b[36m0.7917\u001b[0m        \u001b[32m0.4502\u001b[0m            \u001b[35m0.4549\u001b[0m        \u001b[31m1.1591\u001b[0m  0.0004  1.6799\n",
            "      7            \u001b[36m0.9722\u001b[0m        \u001b[32m0.4097\u001b[0m            \u001b[35m0.5417\u001b[0m        \u001b[31m0.9364\u001b[0m  0.0004  1.6821\n",
            "      8            \u001b[36m0.9896\u001b[0m        \u001b[32m0.3215\u001b[0m            \u001b[35m0.6007\u001b[0m        \u001b[31m0.8501\u001b[0m  0.0003  1.6889\n",
            "      9            0.9896        \u001b[32m0.3084\u001b[0m            \u001b[35m0.6146\u001b[0m        \u001b[31m0.8151\u001b[0m  0.0002  1.6864\n",
            "     10            0.9896        \u001b[32m0.2675\u001b[0m            0.6146        \u001b[31m0.8055\u001b[0m  0.0002  1.6908\n",
            "     11            \u001b[36m0.9931\u001b[0m        0.2946            0.6146        \u001b[31m0.8018\u001b[0m  0.0001  1.6838\n",
            "     12            0.9931        0.2727            \u001b[35m0.6181\u001b[0m        \u001b[31m0.8002\u001b[0m  0.0001  1.6805\n",
            "     13            0.9931        \u001b[32m0.2627\u001b[0m            \u001b[35m0.6215\u001b[0m        \u001b[31m0.7999\u001b[0m  0.0000  1.7125\n",
            "     14            0.9931        0.2769            0.6181        0.8000  0.0000  1.7142\n",
            "     15            0.9931        0.2654            0.6181        0.8000  0.0000  1.6868\n",
            "   Model for train subject 3\n",
            "  epoch    train_accuracy    train_loss    valid_accuracy    valid_loss      lr     dur\n",
            "-------  ----------------  ------------  ----------------  ------------  ------  ------\n",
            "      1            \u001b[36m0.2535\u001b[0m        \u001b[32m1.7032\u001b[0m            \u001b[35m0.2535\u001b[0m        \u001b[31m4.8876\u001b[0m  0.0006  1.6786\n",
            "      2            \u001b[36m0.2569\u001b[0m        \u001b[32m1.1670\u001b[0m            0.2535        \u001b[31m3.5993\u001b[0m  0.0006  1.6832\n",
            "      3            \u001b[36m0.3576\u001b[0m        \u001b[32m0.9017\u001b[0m            \u001b[35m0.3090\u001b[0m        \u001b[31m3.0071\u001b[0m  0.0006  1.6902\n",
            "      4            \u001b[36m0.5069\u001b[0m        \u001b[32m0.7267\u001b[0m            \u001b[35m0.3715\u001b[0m        \u001b[31m2.0346\u001b[0m  0.0006  1.6875\n",
            "      5            \u001b[36m0.6076\u001b[0m        \u001b[32m0.5747\u001b[0m            \u001b[35m0.3924\u001b[0m        \u001b[31m1.4644\u001b[0m  0.0005  1.6850\n",
            "      6            \u001b[36m0.8056\u001b[0m        \u001b[32m0.4997\u001b[0m            \u001b[35m0.4549\u001b[0m        \u001b[31m1.1391\u001b[0m  0.0004  1.6890\n",
            "      7            \u001b[36m0.9583\u001b[0m        \u001b[32m0.4206\u001b[0m            \u001b[35m0.5972\u001b[0m        \u001b[31m0.9244\u001b[0m  0.0004  1.6851\n",
            "      8            \u001b[36m0.9896\u001b[0m        \u001b[32m0.3394\u001b[0m            \u001b[35m0.6042\u001b[0m        \u001b[31m0.8497\u001b[0m  0.0003  1.6838\n",
            "      9            0.9861        \u001b[32m0.3128\u001b[0m            0.6042        \u001b[31m0.8223\u001b[0m  0.0002  1.6799\n",
            "     10            0.9896        \u001b[32m0.3031\u001b[0m            \u001b[35m0.6146\u001b[0m        \u001b[31m0.8119\u001b[0m  0.0002  1.6884\n",
            "     11            0.9896        \u001b[32m0.2772\u001b[0m            0.6076        \u001b[31m0.8062\u001b[0m  0.0001  1.6841\n",
            "     12            0.9896        0.2780            0.6042        \u001b[31m0.8032\u001b[0m  0.0001  1.6871\n",
            "     13            0.9896        \u001b[32m0.2553\u001b[0m            0.6042        \u001b[31m0.8019\u001b[0m  0.0000  1.6813\n",
            "     14            0.9896        0.2612            0.6007        \u001b[31m0.8017\u001b[0m  0.0000  1.6857\n",
            "     15            0.9896        0.2759            0.5972        0.8020  0.0000  1.6818\n",
            "   Model for train subject 5\n",
            "  epoch    train_accuracy    train_loss    valid_accuracy    valid_loss      lr     dur\n",
            "-------  ----------------  ------------  ----------------  ------------  ------  ------\n",
            "      1            \u001b[36m0.2500\u001b[0m        \u001b[32m1.5588\u001b[0m            \u001b[35m0.2535\u001b[0m        \u001b[31m4.5605\u001b[0m  0.0006  1.6827\n",
            "      2            \u001b[36m0.5799\u001b[0m        \u001b[32m1.2262\u001b[0m            \u001b[35m0.3229\u001b[0m        \u001b[31m2.9651\u001b[0m  0.0006  1.6918\n",
            "      3            0.3264        \u001b[32m0.9337\u001b[0m            0.2917        \u001b[31m2.6450\u001b[0m  0.0006  1.6856\n",
            "      4            0.3542        \u001b[32m0.6533\u001b[0m            0.3021        \u001b[31m2.2740\u001b[0m  0.0006  1.6822\n",
            "      5            0.5729        \u001b[32m0.5570\u001b[0m            \u001b[35m0.3472\u001b[0m        \u001b[31m1.5487\u001b[0m  0.0005  1.6858\n",
            "      6            \u001b[36m0.8299\u001b[0m        \u001b[32m0.4640\u001b[0m            \u001b[35m0.4931\u001b[0m        \u001b[31m1.1063\u001b[0m  0.0004  1.6879\n",
            "      7            \u001b[36m0.9653\u001b[0m        \u001b[32m0.4054\u001b[0m            \u001b[35m0.5590\u001b[0m        \u001b[31m0.8881\u001b[0m  0.0004  1.6856\n",
            "      8            \u001b[36m0.9931\u001b[0m        \u001b[32m0.3278\u001b[0m            \u001b[35m0.6042\u001b[0m        \u001b[31m0.8291\u001b[0m  0.0003  1.6872\n",
            "      9            0.9896        \u001b[32m0.2928\u001b[0m            \u001b[35m0.6250\u001b[0m        \u001b[31m0.8124\u001b[0m  0.0002  1.6897\n",
            "     10            0.9896        0.2997            0.6076        \u001b[31m0.8040\u001b[0m  0.0002  1.6864\n",
            "     11            0.9931        \u001b[32m0.2489\u001b[0m            0.6076        \u001b[31m0.7961\u001b[0m  0.0001  1.6911\n",
            "     12            0.9931        0.2684            0.6146        \u001b[31m0.7924\u001b[0m  0.0001  1.6846\n",
            "     13            \u001b[36m0.9965\u001b[0m        0.2527            0.6111        \u001b[31m0.7907\u001b[0m  0.0000  1.6876\n",
            "     14            0.9931        \u001b[32m0.2474\u001b[0m            0.6111        \u001b[31m0.7906\u001b[0m  0.0000  1.6866\n",
            "     15            0.9931        0.2504            0.6111        \u001b[31m0.7905\u001b[0m  0.0000  1.6827\n",
            "Test subject: 5\n",
            "   Model for train subject 1\n",
            "  epoch    train_accuracy    train_loss    valid_accuracy    valid_loss      lr     dur\n",
            "-------  ----------------  ------------  ----------------  ------------  ------  ------\n",
            "      1            \u001b[36m0.2569\u001b[0m        \u001b[32m1.6019\u001b[0m            \u001b[35m0.2535\u001b[0m        \u001b[31m4.4306\u001b[0m  0.0006  1.6843\n",
            "      2            \u001b[36m0.3854\u001b[0m        \u001b[32m1.1446\u001b[0m            \u001b[35m0.3021\u001b[0m        \u001b[31m3.1200\u001b[0m  0.0006  1.6818\n",
            "      3            \u001b[36m0.5069\u001b[0m        \u001b[32m0.9514\u001b[0m            \u001b[35m0.3576\u001b[0m        \u001b[31m2.6948\u001b[0m  0.0006  1.6805\n",
            "      4            0.3438        \u001b[32m0.7062\u001b[0m            0.2812        \u001b[31m2.5393\u001b[0m  0.0006  1.6828\n",
            "      5            0.4583        \u001b[32m0.5499\u001b[0m            0.3403        \u001b[31m1.7768\u001b[0m  0.0005  1.6853\n",
            "      6            \u001b[36m0.7604\u001b[0m        \u001b[32m0.4797\u001b[0m            \u001b[35m0.4549\u001b[0m        \u001b[31m1.2324\u001b[0m  0.0004  1.6806\n",
            "      7            \u001b[36m0.9201\u001b[0m        \u001b[32m0.3949\u001b[0m            \u001b[35m0.5451\u001b[0m        \u001b[31m0.9874\u001b[0m  0.0004  1.6874\n",
            "      8            \u001b[36m0.9757\u001b[0m        \u001b[32m0.3302\u001b[0m            \u001b[35m0.5972\u001b[0m        \u001b[31m0.8776\u001b[0m  0.0003  1.6862\n",
            "      9            \u001b[36m0.9896\u001b[0m        \u001b[32m0.3027\u001b[0m            \u001b[35m0.6493\u001b[0m        \u001b[31m0.8359\u001b[0m  0.0002  1.6808\n",
            "     10            \u001b[36m0.9931\u001b[0m        \u001b[32m0.2756\u001b[0m            0.6389        \u001b[31m0.8193\u001b[0m  0.0002  1.6847\n",
            "     11            0.9931        \u001b[32m0.2681\u001b[0m            0.6285        \u001b[31m0.8104\u001b[0m  0.0001  1.6869\n",
            "     12            0.9931        \u001b[32m0.2614\u001b[0m            0.6250        \u001b[31m0.8059\u001b[0m  0.0001  1.6867\n",
            "     13            0.9931        0.2649            0.6250        \u001b[31m0.8039\u001b[0m  0.0000  1.6840\n",
            "     14            0.9931        \u001b[32m0.2435\u001b[0m            0.6111        0.8041  0.0000  1.6775\n",
            "     15            0.9931        0.2701            0.6076        0.8047  0.0000  1.6855\n",
            "   Model for train subject 2\n",
            "  epoch    train_accuracy    train_loss    valid_accuracy    valid_loss      lr     dur\n",
            "-------  ----------------  ------------  ----------------  ------------  ------  ------\n",
            "      1            \u001b[36m0.2778\u001b[0m        \u001b[32m1.6780\u001b[0m            \u001b[35m0.2535\u001b[0m        \u001b[31m3.0476\u001b[0m  0.0006  1.6752\n",
            "      2            0.2743        \u001b[32m1.1948\u001b[0m            0.2465        \u001b[31m3.0319\u001b[0m  0.0006  1.6839\n",
            "      3            \u001b[36m0.3194\u001b[0m        \u001b[32m0.8470\u001b[0m            \u001b[35m0.2674\u001b[0m        \u001b[31m2.6107\u001b[0m  0.0006  1.6783\n",
            "      4            \u001b[36m0.5174\u001b[0m        \u001b[32m0.6863\u001b[0m            \u001b[35m0.3576\u001b[0m        \u001b[31m1.9237\u001b[0m  0.0006  1.6757\n",
            "      5            \u001b[36m0.6840\u001b[0m        \u001b[32m0.5637\u001b[0m            \u001b[35m0.4201\u001b[0m        \u001b[31m1.4401\u001b[0m  0.0005  1.6784\n",
            "      6            \u001b[36m0.8542\u001b[0m        \u001b[32m0.4450\u001b[0m            \u001b[35m0.4965\u001b[0m        \u001b[31m1.1224\u001b[0m  0.0004  1.6811\n",
            "      7            \u001b[36m0.9618\u001b[0m        \u001b[32m0.4070\u001b[0m            \u001b[35m0.5312\u001b[0m        \u001b[31m0.9465\u001b[0m  0.0004  1.6784\n",
            "      8            \u001b[36m0.9792\u001b[0m        \u001b[32m0.3527\u001b[0m            \u001b[35m0.5486\u001b[0m        \u001b[31m0.8678\u001b[0m  0.0003  1.6798\n",
            "      9            \u001b[36m0.9896\u001b[0m        \u001b[32m0.3018\u001b[0m            \u001b[35m0.6007\u001b[0m        \u001b[31m0.8341\u001b[0m  0.0002  1.6784\n",
            "     10            \u001b[36m0.9931\u001b[0m        \u001b[32m0.2755\u001b[0m            \u001b[35m0.6076\u001b[0m        \u001b[31m0.8208\u001b[0m  0.0002  1.6818\n",
            "     11            0.9931        \u001b[32m0.2689\u001b[0m            0.6007        \u001b[31m0.8143\u001b[0m  0.0001  1.6832\n",
            "     12            0.9931        0.2758            0.6007        \u001b[31m0.8120\u001b[0m  0.0001  1.6802\n",
            "     13            0.9931        \u001b[32m0.2650\u001b[0m            0.6007        \u001b[31m0.8115\u001b[0m  0.0000  1.6808\n",
            "     14            0.9896        0.2745            0.6007        0.8119  0.0000  1.6817\n",
            "     15            0.9896        \u001b[32m0.2523\u001b[0m            0.6007        0.8119  0.0000  1.6830\n",
            "   Model for train subject 3\n",
            "  epoch    train_accuracy    train_loss    valid_accuracy    valid_loss      lr     dur\n",
            "-------  ----------------  ------------  ----------------  ------------  ------  ------\n",
            "      1            \u001b[36m0.4132\u001b[0m        \u001b[32m1.6956\u001b[0m            \u001b[35m0.2917\u001b[0m        \u001b[31m3.0224\u001b[0m  0.0006  1.6723\n",
            "      2            0.2535        \u001b[32m1.1164\u001b[0m            0.2535        4.0155  0.0006  1.6818\n",
            "      3            0.2535        \u001b[32m0.8815\u001b[0m            0.2500        4.2271  0.0006  1.6821\n",
            "      4            0.2882        \u001b[32m0.7008\u001b[0m            0.2778        \u001b[31m2.5066\u001b[0m  0.0006  1.6837\n",
            "      5            \u001b[36m0.6354\u001b[0m        \u001b[32m0.5603\u001b[0m            \u001b[35m0.3715\u001b[0m        \u001b[31m1.4053\u001b[0m  0.0005  1.6814\n",
            "      6            \u001b[36m0.8993\u001b[0m        \u001b[32m0.4511\u001b[0m            \u001b[35m0.5347\u001b[0m        \u001b[31m0.9991\u001b[0m  0.0004  1.6800\n",
            "      7            \u001b[36m0.9722\u001b[0m        \u001b[32m0.3867\u001b[0m            \u001b[35m0.5556\u001b[0m        \u001b[31m0.8893\u001b[0m  0.0004  1.6821\n",
            "      8            \u001b[36m0.9931\u001b[0m        \u001b[32m0.3347\u001b[0m            \u001b[35m0.6007\u001b[0m        \u001b[31m0.8328\u001b[0m  0.0003  1.6857\n",
            "      9            \u001b[36m0.9965\u001b[0m        0.3362            \u001b[35m0.6285\u001b[0m        \u001b[31m0.8094\u001b[0m  0.0002  1.6832\n",
            "     10            0.9965        \u001b[32m0.2929\u001b[0m            0.6215        \u001b[31m0.7970\u001b[0m  0.0002  1.7073\n",
            "     11            0.9965        0.2949            0.6285        \u001b[31m0.7912\u001b[0m  0.0001  1.6888\n",
            "     12            0.9965        \u001b[32m0.2767\u001b[0m            0.6250        \u001b[31m0.7890\u001b[0m  0.0001  1.6859\n",
            "     13            0.9965        0.2856            0.6215        \u001b[31m0.7883\u001b[0m  0.0000  1.6847\n",
            "     14            0.9965        \u001b[32m0.2530\u001b[0m            0.6146        \u001b[31m0.7878\u001b[0m  0.0000  1.6858\n",
            "     15            0.9965        0.2860            0.6146        0.7879  0.0000  1.6811\n",
            "   Model for train subject 4\n",
            "  epoch    train_accuracy    train_loss    valid_accuracy    valid_loss      lr     dur\n",
            "-------  ----------------  ------------  ----------------  ------------  ------  ------\n",
            "      1            \u001b[36m0.2500\u001b[0m        \u001b[32m1.6497\u001b[0m            \u001b[35m0.2535\u001b[0m        \u001b[31m4.3070\u001b[0m  0.0006  1.6746\n",
            "      2            \u001b[36m0.3299\u001b[0m        \u001b[32m1.1753\u001b[0m            \u001b[35m0.2604\u001b[0m        \u001b[31m3.2369\u001b[0m  0.0006  1.6832\n",
            "      3            \u001b[36m0.6354\u001b[0m        \u001b[32m0.9500\u001b[0m            \u001b[35m0.3889\u001b[0m        \u001b[31m2.4593\u001b[0m  0.0006  1.6922\n",
            "      4            0.4896        \u001b[32m0.7015\u001b[0m            0.3403        \u001b[31m2.1878\u001b[0m  0.0006  1.6795\n",
            "      5            0.5243        \u001b[32m0.5793\u001b[0m            0.3611        \u001b[31m1.7024\u001b[0m  0.0005  1.6770\n",
            "      6            \u001b[36m0.7882\u001b[0m        \u001b[32m0.4717\u001b[0m            \u001b[35m0.4549\u001b[0m        \u001b[31m1.1667\u001b[0m  0.0004  1.6821\n",
            "      7            \u001b[36m0.9757\u001b[0m        \u001b[32m0.4404\u001b[0m            \u001b[35m0.5417\u001b[0m        \u001b[31m0.9191\u001b[0m  0.0004  1.6961\n",
            "      8            \u001b[36m0.9896\u001b[0m        \u001b[32m0.3836\u001b[0m            \u001b[35m0.5660\u001b[0m        \u001b[31m0.8606\u001b[0m  0.0003  1.6774\n",
            "      9            \u001b[36m0.9931\u001b[0m        \u001b[32m0.3308\u001b[0m            \u001b[35m0.6076\u001b[0m        \u001b[31m0.8358\u001b[0m  0.0002  1.6765\n",
            "     10            0.9931        \u001b[32m0.3037\u001b[0m            0.5868        \u001b[31m0.8249\u001b[0m  0.0002  1.6820\n",
            "     11            \u001b[36m0.9965\u001b[0m        \u001b[32m0.2994\u001b[0m            0.5938        \u001b[31m0.8205\u001b[0m  0.0001  1.6818\n",
            "     12            0.9965        \u001b[32m0.2786\u001b[0m            0.6042        \u001b[31m0.8177\u001b[0m  0.0001  1.6811\n",
            "     13            0.9965        \u001b[32m0.2763\u001b[0m            0.6042        \u001b[31m0.8161\u001b[0m  0.0000  1.6823\n",
            "     14            0.9965        \u001b[32m0.2745\u001b[0m            0.5972        0.8162  0.0000  1.6823\n",
            "     15            0.9965        \u001b[32m0.2570\u001b[0m            0.5972        0.8164  0.0000  1.6785\n"
          ]
        }
      ]
    },
    {
      "cell_type": "markdown",
      "source": [
        "###**Part 3 (?)**\n",
        "\n",
        "Maby we can evaluate the EA in this case too, but I don't know if is really relevant, because it's just a combination of the N-1 networks. If a certain network has a determined difference between predictions with and without EA, then in the ensemble, the percentual difference of this network with and without EA will be the same. Another problem is that, to create the ensemble we need to use the data from the new individual. So, the comparision with parts 1 and 2 couldn't be the same.\n",
        "\n",
        "If it's relevant, we create an ensemble with the N-1 models trained with one indivudial each, and then compare the predictions with and without the alignment. \n",
        "\n",
        "The ensemble weights can be determined based on different methods: metrics and meta-models. So, this part needs to be done after the implementation of the ensembles."
      ],
      "metadata": {
        "id": "Ve_28lV_aX_m"
      }
    },
    {
      "cell_type": "code",
      "source": [
        "#"
      ],
      "metadata": {
        "id": "Lafbin_faoPk"
      },
      "execution_count": null,
      "outputs": []
    }
  ]
}